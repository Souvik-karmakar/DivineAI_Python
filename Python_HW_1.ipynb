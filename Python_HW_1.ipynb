{
  "nbformat": 4,
  "nbformat_minor": 0,
  "metadata": {
    "colab": {
      "name": "Python HW 1",
      "provenance": [],
      "collapsed_sections": [],
      "authorship_tag": "ABX9TyMzeITFKMNqKWcU426aIm+G",
      "include_colab_link": true
    },
    "kernelspec": {
      "name": "python3",
      "display_name": "Python 3"
    },
    "language_info": {
      "name": "python"
    }
  },
  "cells": [
    {
      "cell_type": "markdown",
      "metadata": {
        "id": "view-in-github",
        "colab_type": "text"
      },
      "source": [
        "<a href=\"https://colab.research.google.com/github/Souvik5120/DivineAI/blob/main/Python_HW_1.ipynb\" target=\"_parent\"><img src=\"https://colab.research.google.com/assets/colab-badge.svg\" alt=\"Open In Colab\"/></a>"
      ]
    },
    {
      "cell_type": "code",
      "metadata": {
        "colab": {
          "base_uri": "https://localhost:8080/"
        },
        "id": "QaNl-FnSe-rc",
        "outputId": "20d98335-9268-4d05-9807-745a1adfb5c2"
      },
      "source": [
        "#Python Program to Convert Kilometers to Miles\n",
        "dist=int(input(\"Enter the Distance in km:- \"))\n",
        "print(\"Distance in mile is:-\",dist/1.609)"
      ],
      "execution_count": 5,
      "outputs": [
        {
          "output_type": "stream",
          "text": [
            "Enter the Distance in km:- 6\n",
            "Distance in mile is:- 3.7290242386575514\n"
          ],
          "name": "stdout"
        }
      ]
    },
    {
      "cell_type": "code",
      "metadata": {
        "colab": {
          "base_uri": "https://localhost:8080/"
        },
        "id": "s5U2uqOriH_i",
        "outputId": "8a477574-bfe1-44cb-8f3c-bff188195e14"
      },
      "source": [
        "#Python Program to Convert Celsius To Fahrenheit\n",
        "temp=float(input(\"Enter Temp in Celsius:- \"))\n",
        "print(\"Temp in Farenheit is:- \",(temp * 1.8) + 32)\n",
        "\n"
      ],
      "execution_count": 7,
      "outputs": [
        {
          "output_type": "stream",
          "text": [
            "Enter Temp in Celsius:- 45.9\n",
            "Temp in Farenheit is:-  114.62\n"
          ],
          "name": "stdout"
        }
      ]
    },
    {
      "cell_type": "code",
      "metadata": {
        "colab": {
          "base_uri": "https://localhost:8080/"
        },
        "id": "5MWZsMOqjM2t",
        "outputId": "726c50dd-2a27-4d58-ce6d-d50bf7ef463d"
      },
      "source": [
        "#Python Program to Check if a Number is Positive, Negative or 0\n",
        "num=int(input(\"Enter any Number:- \"))\n",
        "if(num>0):\n",
        "  print(\"Number is positive\" )\n",
        "elif(num==0):\n",
        "  print(\"Number is  zero\" )\n",
        "else:\n",
        "  print(\"Number is negative\" )    "
      ],
      "execution_count": 10,
      "outputs": [
        {
          "output_type": "stream",
          "text": [
            "Enter any Number:- 0\n",
            "Number is equal to zero\n"
          ],
          "name": "stdout"
        }
      ]
    },
    {
      "cell_type": "code",
      "metadata": {
        "colab": {
          "base_uri": "https://localhost:8080/"
        },
        "id": "twF19oFekCu2",
        "outputId": "0e6cf6ee-af14-4c6b-ff3b-fbc2d1b0f95f"
      },
      "source": [
        "#Python Program to Check if a Number is Odd or Even\n",
        "num1=int(input(\"Enter The No you Want to check for even or odd:- \"))\n",
        "if(num1%2==0):\n",
        "  print(\"Entered number is Even\" )\n",
        "else:\n",
        "  print(\"Entered number is Odd\" )  "
      ],
      "execution_count": 12,
      "outputs": [
        {
          "output_type": "stream",
          "text": [
            "Enter The No you Want to check for even or odd:- 6\n",
            "Entered number is Even\n"
          ],
          "name": "stdout"
        }
      ]
    },
    {
      "cell_type": "code",
      "metadata": {
        "colab": {
          "base_uri": "https://localhost:8080/"
        },
        "id": "lo13Yv9tkkRa",
        "outputId": "62cd6b8e-3f5c-4546-cf2c-9d410e0d5828"
      },
      "source": [
        "#Python Program to Check Leap Year\n",
        "year=int(input(\"Enter a year:- \"))\n",
        "if(year%4==0 or year%100==0 or year%400==0):\n",
        "  print(\"{} is a Leapyear\".format(year))\n",
        "else:\n",
        "  print(\"{} is not a Leapyear\".format(year))  "
      ],
      "execution_count": 16,
      "outputs": [
        {
          "output_type": "stream",
          "text": [
            "Enter a year:- 367\n",
            "367 is not a Leapyear\n"
          ],
          "name": "stdout"
        }
      ]
    },
    {
      "cell_type": "code",
      "metadata": {
        "colab": {
          "base_uri": "https://localhost:8080/"
        },
        "id": "sQBdPeEnlqpS",
        "outputId": "cce2651c-0d2b-428f-ce19-ca0a5e9c26f0"
      },
      "source": [
        "#Python Program to Find the Largest Among Three Numbers\n",
        "a=int(input(\"Enter 1st no:- \"))\n",
        "b=int(input(\"Enter 2nd no:- \"))\n",
        "c=int(input(\"Enter 3rd no:- \"))\n",
        "if(a>b and2 a>c):\n",
        "  print(\"{} is Largest No\".format(a))\n",
        "elif(b>a and b>c):\n",
        "  print(\"{} is Largest No\".format(b))\n",
        "else:\n",
        "  print(\"{} is Largest No\".format(c))    \n"
      ],
      "execution_count": 18,
      "outputs": [
        {
          "output_type": "stream",
          "text": [
            "Enter 1st no:- 10\n",
            "Enter 2nd no:- 20\n",
            "Enter 3rd no:- 30\n",
            "30 is Largest No\n"
          ],
          "name": "stdout"
        }
      ]
    },
    {
      "cell_type": "code",
      "metadata": {
        "colab": {
          "base_uri": "https://localhost:8080/"
        },
        "id": "EJvDx2gQoO9T",
        "outputId": "4911e36f-93ef-4c02-ee68-9d588c60e4e0"
      },
      "source": [
        "#Write a Python Program to check if a number is prime or not\n",
        "num3=int(input(\"Enter any No:- \"))\n",
        "c=0\n",
        "for i in range(1,num3):\n",
        "  if(num3%i==0):\n",
        "     c=1\n",
        "if(c==1):\n",
        "  print(\"{} is prime no\".format(num3))\n",
        "else:\n",
        "  print(\"{} is not a prime no\".format(num3))    "
      ],
      "execution_count": 22,
      "outputs": [
        {
          "output_type": "stream",
          "text": [
            "Enter any No:- 5\n",
            "5 is prime no\n"
          ],
          "name": "stdout"
        }
      ]
    },
    {
      "cell_type": "code",
      "metadata": {
        "colab": {
          "base_uri": "https://localhost:8080/"
        },
        "id": "Rmhfov4UpbwD",
        "outputId": "9f8de399-5971-4047-fceb-fe5bb2be0ad1"
      },
      "source": [
        "#Python program to display all the prime numbers within an interval\n",
        "num4=int(input(\"Enter the lower limit:- \"))\n",
        "num5=int(input(\"Enter the upper limit:- \"))\n",
        "print(\"Prime no's between the range of {} to {} are:- \".format(num4,num5))\n",
        "for i in range (num4,num5+1):\n",
        "  for j in range (2,i):\n",
        "    if(i>1):\n",
        "      if(i%j==0):\n",
        "        break\n",
        "  else:\n",
        "     print(i)  "
      ],
      "execution_count": 27,
      "outputs": [
        {
          "output_type": "stream",
          "text": [
            "Enter the lower limit:- 10\n",
            "Enter the upper limit:- 20\n",
            "Prime no's between the range of 10 to 20 are:- \n",
            "11\n",
            "13\n",
            "17\n",
            "19\n"
          ],
          "name": "stdout"
        }
      ]
    },
    {
      "cell_type": "code",
      "metadata": {
        "colab": {
          "base_uri": "https://localhost:8080/"
        },
        "id": "0Im6GGDgrRi8",
        "outputId": "58c1b069-c106-4f5c-82c6-fe8416c5b8d2"
      },
      "source": [
        "#Python program to find the factorial of a number.\n",
        "num6=int(input(\"Enter any number:- \"))\n",
        "fact=1\n",
        "for i in range(num6,0,-1):\n",
        "   fact=fact*i\n",
        "print(\"Factorial of {} is:- {}\".format(num6,fact))  "
      ],
      "execution_count": 37,
      "outputs": [
        {
          "output_type": "stream",
          "text": [
            "Enter any number:- 5\n",
            "Factorial of 5 is:- 120\n"
          ],
          "name": "stdout"
        }
      ]
    },
    {
      "cell_type": "code",
      "metadata": {
        "colab": {
          "base_uri": "https://localhost:8080/"
        },
        "id": "mYww9GkAsu-e",
        "outputId": "1a0c2356-17ac-49aa-9fb6-a529052af553"
      },
      "source": [
        "#Python Program to Display the multiplication Table\n",
        "num7=int(input(\"Enter any number:- \"))\n",
        "print(\"Table of {} is\".format(num7))\n",
        "for i in range(1,11,1):\n",
        "  print(\"{} x {} = {}\".format(num7,i,num7*i))"
      ],
      "execution_count": 42,
      "outputs": [
        {
          "output_type": "stream",
          "text": [
            "Enter any number:- 5\n",
            "Table of 5 is\n",
            "5 x 1 = 5\n",
            "5 x 2 = 10\n",
            "5 x 3 = 15\n",
            "5 x 4 = 20\n",
            "5 x 5 = 25\n",
            "5 x 6 = 30\n",
            "5 x 7 = 35\n",
            "5 x 8 = 40\n",
            "5 x 9 = 45\n",
            "5 x 10 = 50\n"
          ],
          "name": "stdout"
        }
      ]
    },
    {
      "cell_type": "code",
      "metadata": {
        "colab": {
          "base_uri": "https://localhost:8080/"
        },
        "id": "YT5dx8X0tuCm",
        "outputId": "3dc409b8-7183-408a-9a6a-0fda400db2d7"
      },
      "source": [
        "#Python Program to Print the Fibonacci sequence\n",
        "num8=int(input(\"Enter The No :- \"))\n",
        "x=0\n",
        "y=1\n",
        "print(\"Fibonacci series till {} is:- \".format(num8))\n",
        "if num8 == 0:\n",
        "    print (x)\n",
        "elif num8 == 1:\n",
        "    print (y)\n",
        "else:\n",
        "    print (x)\n",
        "    print (y)\n",
        "    for i in range(2,num8+1):\n",
        "       z=x+y\n",
        "       x=y\n",
        "       y=z\n",
        "       print(z)\n",
        "  "
      ],
      "execution_count": 55,
      "outputs": [
        {
          "output_type": "stream",
          "text": [
            "Enter The No :- 5\n",
            "Fibonacci series till 5 is:- \n",
            "0\n",
            "1\n",
            "1\n",
            "2\n",
            "3\n",
            "5\n"
          ],
          "name": "stdout"
        }
      ]
    },
    {
      "cell_type": "code",
      "metadata": {
        "colab": {
          "base_uri": "https://localhost:8080/"
        },
        "id": "ovcFV78FxZ33",
        "outputId": "42a8ac6a-4095-4575-c6f4-69c70ca53729"
      },
      "source": [
        "#Python Program to Check Armstrong Number (for 3 digits)\n",
        "n = int(input(\"Enter a number: \"))  \n",
        "sum = 0  \n",
        "temp = n \n",
        "  \n",
        "while temp > 0:  \n",
        "   Number = temp % 10  \n",
        "   sum += Number ** 3  \n",
        "   temp //= 10  \n",
        "  \n",
        "if n == sum:  \n",
        "   print(n,\"is an Armstrong number\")  \n",
        "else:  \n",
        "   print(n,\"is not an Armstrong number\")  "
      ],
      "execution_count": 59,
      "outputs": [
        {
          "output_type": "stream",
          "text": [
            "Enter a number: 153\n",
            "153 is an Armstrong number\n"
          ],
          "name": "stdout"
        }
      ]
    }
  ]
}