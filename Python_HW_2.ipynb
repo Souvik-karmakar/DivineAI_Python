{
  "nbformat": 4,
  "nbformat_minor": 0,
  "metadata": {
    "colab": {
      "name": "Python_HW 2",
      "provenance": [],
      "collapsed_sections": [],
      "authorship_tag": "ABX9TyMcio6LuSWCwlfeBR4uvCqU",
      "include_colab_link": true
    },
    "kernelspec": {
      "name": "python3",
      "display_name": "Python 3"
    },
    "language_info": {
      "name": "python"
    }
  },
  "cells": [
    {
      "cell_type": "markdown",
      "metadata": {
        "id": "view-in-github",
        "colab_type": "text"
      },
      "source": [
        "<a href=\"https://colab.research.google.com/github/Souvik5120/DivineAI_Python/blob/main/Python_HW_2.ipynb\" target=\"_parent\"><img src=\"https://colab.research.google.com/assets/colab-badge.svg\" alt=\"Open In Colab\"/></a>"
      ]
    },
    {
      "cell_type": "code",
      "metadata": {
        "colab": {
          "base_uri": "https://localhost:8080/"
        },
        "id": "J1wiQa4yADNe",
        "outputId": "875cf423-57d4-4c31-e8f0-f5e2a2bad392"
      },
      "source": [
        "# find the sum of the cube of each digit\n",
        "n = int(input(\"Enter a number: \"))  \n",
        "sum = 0  \n",
        "temp = n \n",
        "  \n",
        "while temp > 0:  \n",
        "   Number = temp % 10  \n",
        "   sum += Number ** 3  \n",
        "   temp //= 10  \n",
        "print(sum)"
      ],
      "execution_count": null,
      "outputs": [
        {
          "output_type": "stream",
          "text": [
            "Enter a number: 123\n",
            "36\n"
          ],
          "name": "stdout"
        }
      ]
    },
    {
      "cell_type": "code",
      "metadata": {
        "colab": {
          "base_uri": "https://localhost:8080/"
        },
        "id": "Bk22EATVBQ34",
        "outputId": "4c1485cc-0675-4dd5-d08d-61d589d73e8b"
      },
      "source": [
        "#Python Program to Find Armstrong Number in an Interval\n",
        "lower = int(input(\"Enter lower range: \"))  \n",
        "upper = int(input(\"Enter upper range: \"))  \n",
        "  \n",
        "for num in range(lower,upper + 1):  \n",
        "   sum = 0  \n",
        "   temp = num  \n",
        "   while temp > 0:  \n",
        "       digit = temp % 10  \n",
        "       sum += digit ** 3  \n",
        "       temp //= 10  \n",
        "       if num == sum:  \n",
        "            print(num)  "
      ],
      "execution_count": null,
      "outputs": [
        {
          "output_type": "stream",
          "text": [
            "Enter lower range: 100\n",
            "Enter upper range: 170\n",
            "125\n",
            "153\n"
          ],
          "name": "stdout"
        }
      ]
    },
    {
      "cell_type": "code",
      "metadata": {
        "colab": {
          "base_uri": "https://localhost:8080/"
        },
        "id": "b8h_VqLxGzD0",
        "outputId": "2eb4aeb1-9534-46c4-adc5-11c1b81bb924"
      },
      "source": [
        "#Python Program to Find the Sum of Natural Numbers\n",
        "n=int(input(\"Enter a no:- \"))\n",
        "sum=0\n",
        "for i in range(0,n+1):\n",
        "  sum=sum+i\n",
        "print(sum)  "
      ],
      "execution_count": null,
      "outputs": [
        {
          "output_type": "stream",
          "text": [
            "Enter a no:- 4\n",
            "10\n"
          ],
          "name": "stdout"
        }
      ]
    },
    {
      "cell_type": "code",
      "metadata": {
        "id": "1pTO3T4DHk5g",
        "colab": {
          "base_uri": "https://localhost:8080/"
        },
        "outputId": "95a8e93c-ed73-4a7a-df8f-acfe722b4fb8"
      },
      "source": [
        "#Python Program To Display Powers of 2 Using Anonymous Function Display the powers of 2 using anonymous function\n",
        "n=int(input(\"Enter The no of terms:-  \"))\n",
        "result = list(map(lambda x: 2 ** x, range(n)))\n",
        "\n",
        "print(\"The total terms are:\",n)\n",
        "for i in range(n):\n",
        "   print(\"{}\".format(result[i]))"
      ],
      "execution_count": null,
      "outputs": [
        {
          "output_type": "stream",
          "text": [
            "Enter The no of terms:-  10\n",
            "The total terms are: 10\n",
            "1\n",
            "2\n",
            "4\n",
            "8\n",
            "16\n",
            "32\n",
            "64\n",
            "128\n",
            "256\n",
            "512\n"
          ],
          "name": "stdout"
        }
      ]
    },
    {
      "cell_type": "code",
      "metadata": {
        "colab": {
          "base_uri": "https://localhost:8080/"
        },
        "id": "oHRFcPrTNtg-",
        "outputId": "9d81259e-b731-43a9-f9f6-b78590f8aa60"
      },
      "source": [
        "#Python Program to Convert Decimal to Binary\n",
        "decimal = int(input(\"Enter a decimal number \\n\"))\n",
        "binary = 0\n",
        "ctr = 0\n",
        "temp = decimal \n",
        "\n",
        "#calculating binary\n",
        "while(temp > 0):\n",
        "    binary = ((temp%2)*(10**ctr)) + binary\n",
        "    temp = int(temp/2)\n",
        "    ctr += 1\n",
        "       \n",
        "print(\"Binary of {} is: {}\".format(decimal,binary))\n"
      ],
      "execution_count": null,
      "outputs": [
        {
          "output_type": "stream",
          "text": [
            "Enter a decimal number \n",
            "12\n",
            "Binary of 12 is: 1100\n"
          ],
          "name": "stdout"
        }
      ]
    },
    {
      "cell_type": "code",
      "metadata": {
        "colab": {
          "base_uri": "https://localhost:8080/"
        },
        "id": "yxhDGvM6TK8v",
        "outputId": "e53d2094-a53f-4fe8-b40b-ca395cba64b2"
      },
      "source": [
        "#Python function to Convert Decimal to Binary\n",
        "def D2B(n):\n",
        "   if n > 1:\n",
        "       D2B(n//2)\n",
        "   print(n % 2,end = '')\n",
        "\n",
        "# decimal number\n",
        "dec = int(input(\"Enter Any Decimal No:- \"))\n",
        "\n",
        "D2B(dec)\n",
        "print()\n"
      ],
      "execution_count": null,
      "outputs": [
        {
          "output_type": "stream",
          "text": [
            "Enter Any Decimal No:- 12\n",
            "1100\n"
          ],
          "name": "stdout"
        }
      ]
    },
    {
      "cell_type": "code",
      "metadata": {
        "colab": {
          "base_uri": "https://localhost:8080/"
        },
        "id": "_BvltokhT5vq",
        "outputId": "7eecf5a5-9e0b-4b9f-a85d-8994f22b32a3"
      },
      "source": [
        "#Python Program to Convert Decimal to Hexadecimal\n",
        "def D2H(n):\n",
        "   if n > 1:\n",
        "       D2B(n//16)\n",
        "   print(n % 16,end = '')\n",
        "\n",
        "# decimal number\n",
        "dec = int(input(\"Enter Any Decimal No:- \"))\n",
        "\n",
        "D2B(dec)\n",
        "print()\n"
      ],
      "execution_count": null,
      "outputs": [
        {
          "output_type": "stream",
          "text": [
            "Enter Any Decimal No:- 20\n",
            "10100\n"
          ],
          "name": "stdout"
        }
      ]
    },
    {
      "cell_type": "code",
      "metadata": {
        "colab": {
          "base_uri": "https://localhost:8080/"
        },
        "id": "u4fRDP7uZDEW",
        "outputId": "ea597cf8-744f-4d2a-c4f5-6c0b2401c39c"
      },
      "source": [
        "#Python Program to Find Numbers Divisible by Another Number\n",
        "print(\"Enter the values of the list:-1 \")\n",
        "x=[]\n",
        "for i in range(0,4):\n",
        "  b=int(input(\"\"))\n",
        "  x.append(b)\n",
        "y=int(input(\"Enter 2nd no:- \"))\n",
        "for i in range(0,4):\n",
        "  if(x[i]%y==0):\n",
        "    print(\"Numbers Divisible by another number are:- {}\".format(x[i]))\n",
        "  else:\n",
        "    print(\"Numbers are not divisible by another No's\")\n",
        "    break\n",
        "\n",
        "\n"
      ],
      "execution_count": null,
      "outputs": [
        {
          "output_type": "stream",
          "text": [
            "Enter the values of the list:-1 \n",
            "12\n",
            "13\n",
            "4\n",
            "15\n",
            "Enter 2nd no:- 10\n"
          ],
          "name": "stdout"
        }
      ]
    },
    {
      "cell_type": "code",
      "metadata": {
        "colab": {
          "base_uri": "https://localhost:8080/"
        },
        "id": "HYmskDZfd41N",
        "outputId": "4315750c-1f1e-4e4d-cfc9-4be87e825c63"
      },
      "source": [
        "#Python Program to Find ASCII Value of Character\n",
        "char = input(\"Enter a character: \")  \n",
        "  \n",
        "print(\"The ASCII value of '\" + char + \"' is\",ord(char)) "
      ],
      "execution_count": null,
      "outputs": [
        {
          "output_type": "stream",
          "text": [
            "Enter a character: e\n",
            "The ASCII value of 'e' is 101\n"
          ],
          "name": "stdout"
        }
      ]
    },
    {
      "cell_type": "code",
      "metadata": {
        "colab": {
          "base_uri": "https://localhost:8080/"
        },
        "id": "QpSZANwygEu-",
        "outputId": "9098be6e-f620-470d-82c6-1552b8edfa0b"
      },
      "source": [
        "#Python Program to Find HCF or GCD\n",
        "x = int(input('Enter First Number: '))\n",
        "y = int(input('Enter Second Number: '))\n",
        "if x > y:\n",
        "    smaller = y\n",
        "else:\n",
        "    smaller = x\n",
        "for i in range (1,smaller+1):\n",
        "    if((x % i == 0) and (y % i == 0)):\n",
        "        gcd = i\n",
        "print(\"The GCD of {} and {} is:- {} \".format(x,y,gcd))"
      ],
      "execution_count": null,
      "outputs": [
        {
          "output_type": "stream",
          "text": [
            "Enter First Number: 12\n",
            "Enter Second Number: 15\n",
            "The GCD of 12 and 15 is:- 3 \n"
          ],
          "name": "stdout"
        }
      ]
    }
  ]
}