{
  "nbformat": 4,
  "nbformat_minor": 0,
  "metadata": {
    "kernelspec": {
      "display_name": "Python 3",
      "language": "python",
      "name": "python3"
    },
    "language_info": {
      "codemirror_mode": {
        "name": "ipython",
        "version": 3
      },
      "file_extension": ".py",
      "mimetype": "text/x-python",
      "name": "python",
      "nbconvert_exporter": "python",
      "pygments_lexer": "ipython3",
      "version": "3.8.3"
    },
    "colab": {
      "name": "Lab Class-4.ipynb",
      "provenance": [],
      "include_colab_link": true
    }
  },
  "cells": [
    {
      "cell_type": "markdown",
      "metadata": {
        "id": "view-in-github",
        "colab_type": "text"
      },
      "source": [
        "<a href=\"https://colab.research.google.com/github/Souvik-karmakar/DivineAI_Python/blob/main/Lab_Class_4.ipynb\" target=\"_parent\"><img src=\"https://colab.research.google.com/assets/colab-badge.svg\" alt=\"Open In Colab\"/></a>"
      ]
    },
    {
      "cell_type": "code",
      "metadata": {
        "id": "aFOnoWVazMLw",
        "outputId": "41c4e735-deca-4ab1-dc64-dc1feb71e0a5"
      },
      "source": [
        "#Scope or Lifetime of an object\n",
        "def update(x):\n",
        "    x=10\n",
        "    print(\"inside function: \"+str(x))\n",
        "    \n",
        "    \n",
        "x=5\n",
        "print(\"outside function:\" +str(x))\n",
        "update(x)\n",
        "print(\"after executing the function, the value of x:\" +str(x))"
      ],
      "execution_count": null,
      "outputs": [
        {
          "output_type": "stream",
          "text": [
            "outside function:5\n",
            "inside function: 10\n",
            "after executing the function, the value of x:5\n"
          ],
          "name": "stdout"
        }
      ]
    },
    {
      "cell_type": "code",
      "metadata": {
        "id": "lLka3TyJzML0",
        "outputId": "e47972c7-a2cc-4f23-f139-a2a56f2b5382",
        "colab": {
          "base_uri": "https://localhost:8080/",
          "height": 195
        }
      },
      "source": [
        "def func():\n",
        "    y=10\n",
        "    return y\n",
        "    \n",
        "func()\n",
        "print(y)"
      ],
      "execution_count": 1,
      "outputs": [
        {
          "output_type": "error",
          "ename": "NameError",
          "evalue": "ignored",
          "traceback": [
            "\u001b[0;31m---------------------------------------------------------------------------\u001b[0m",
            "\u001b[0;31mNameError\u001b[0m                                 Traceback (most recent call last)",
            "\u001b[0;32m<ipython-input-1-6e19573c8516>\u001b[0m in \u001b[0;36m<module>\u001b[0;34m()\u001b[0m\n\u001b[1;32m      4\u001b[0m \u001b[0;34m\u001b[0m\u001b[0m\n\u001b[1;32m      5\u001b[0m \u001b[0mfunc\u001b[0m\u001b[0;34m(\u001b[0m\u001b[0;34m)\u001b[0m\u001b[0;34m\u001b[0m\u001b[0;34m\u001b[0m\u001b[0m\n\u001b[0;32m----> 6\u001b[0;31m \u001b[0mprint\u001b[0m\u001b[0;34m(\u001b[0m\u001b[0my\u001b[0m\u001b[0;34m)\u001b[0m\u001b[0;34m\u001b[0m\u001b[0;34m\u001b[0m\u001b[0m\n\u001b[0m",
            "\u001b[0;31mNameError\u001b[0m: name 'y' is not defined"
          ]
        }
      ]
    },
    {
      "cell_type": "markdown",
      "metadata": {
        "id": "ThHlCu5wzML0"
      },
      "source": [
        "**Qno-Define a function to add the elements present in a tuple. Tuple will be given as an argument."
      ]
    },
    {
      "cell_type": "markdown",
      "metadata": {
        "id": "DhuXPu8fzML1"
      },
      "source": [
        "# Zip"
      ]
    },
    {
      "cell_type": "code",
      "metadata": {
        "id": "bMVKf_LizML1",
        "outputId": "4e709751-dfa1-430c-90bd-3f116a8bf850"
      },
      "source": [
        "#Zip function takes two list and combine it to list of tuples\n",
        "l1=[1,2,3,4,5]\n",
        "l2=[2,4,6,8,10]\n",
        "print(zip(l1,l2)) #returns zip object\n"
      ],
      "execution_count": null,
      "outputs": [
        {
          "output_type": "stream",
          "text": [
            "<zip object at 0x0000027B23A24600>\n"
          ],
          "name": "stdout"
        }
      ]
    },
    {
      "cell_type": "code",
      "metadata": {
        "id": "7RDPmDokzML1",
        "outputId": "5a51639d-a52e-4e4c-df22-192bfa7cb7af"
      },
      "source": [
        "print(list(zip(l1,l2))) #returns list of tuples"
      ],
      "execution_count": null,
      "outputs": [
        {
          "output_type": "stream",
          "text": [
            "[(1, 2), (2, 4), (3, 6), (4, 8), (5, 10)]\n"
          ],
          "name": "stdout"
        }
      ]
    },
    {
      "cell_type": "markdown",
      "metadata": {
        "id": "n-zxXD0xzML2"
      },
      "source": [
        "**Qno-Using zip function make a list of tuples and then write a program to sort a list of tuples using Lambda.\n",
        "Output1: [(56,12),(24,85),(63,89),(90,12)]\n",
        "Output2: [(24, 85), (56, 12), (63, 89), (90, 12)]\n",
        "Outpur3: [(56, 12), (90, 12), (24, 85), (63, 89)]\n"
      ]
    },
    {
      "cell_type": "markdown",
      "metadata": {
        "id": "gHNUotdXzML2"
      },
      "source": [
        "# Filter"
      ]
    },
    {
      "cell_type": "code",
      "metadata": {
        "id": "1LeVtn1mzML2",
        "outputId": "330c6b53-af45-4fd0-d5a4-aa54098c1fbf"
      },
      "source": [
        "#filter(function,sequence )\n",
        "filter(lambda x:x%2==0 , [1,2,3,4,5,6,7,8,9])"
      ],
      "execution_count": null,
      "outputs": [
        {
          "output_type": "execute_result",
          "data": {
            "text/plain": [
              "<filter at 0x27b23a25a60>"
            ]
          },
          "metadata": {
            "tags": []
          },
          "execution_count": 11
        }
      ]
    },
    {
      "cell_type": "code",
      "metadata": {
        "id": "LhfJtDbYzML3",
        "outputId": "afcef976-e4ac-485a-a1ad-158711f98a58"
      },
      "source": [
        "list(filter(lambda x:x%2==0 , [1,2,3,4,5,6,7,8,9]))"
      ],
      "execution_count": null,
      "outputs": [
        {
          "output_type": "execute_result",
          "data": {
            "text/plain": [
              "[2, 4, 6, 8]"
            ]
          },
          "metadata": {
            "tags": []
          },
          "execution_count": 12
        }
      ]
    },
    {
      "cell_type": "markdown",
      "metadata": {
        "id": "2VccbEYyzML3"
      },
      "source": [
        "# Map"
      ]
    },
    {
      "cell_type": "code",
      "metadata": {
        "id": "THxeltb3zML4",
        "outputId": "61d05ab9-f9e7-476e-d7d8-7ff56c7075ff"
      },
      "source": [
        "#map(function,sequence)\n",
        "map(lambda x:x*x , [1,2,3,4,5])"
      ],
      "execution_count": null,
      "outputs": [
        {
          "output_type": "execute_result",
          "data": {
            "text/plain": [
              "<map at 0x27b23a25af0>"
            ]
          },
          "metadata": {
            "tags": []
          },
          "execution_count": 13
        }
      ]
    },
    {
      "cell_type": "code",
      "metadata": {
        "id": "2ryjVKCYzML4",
        "outputId": "5d18cc93-fe9a-407e-ddb6-13edaa33160d"
      },
      "source": [
        "list(map(lambda x:x*x , [1,2,3,4,5]))"
      ],
      "execution_count": null,
      "outputs": [
        {
          "output_type": "execute_result",
          "data": {
            "text/plain": [
              "[1, 4, 9, 16, 25]"
            ]
          },
          "metadata": {
            "tags": []
          },
          "execution_count": 14
        }
      ]
    },
    {
      "cell_type": "markdown",
      "metadata": {
        "id": "6NiXwEHJzML4"
      },
      "source": [
        "# File handling"
      ]
    },
    {
      "cell_type": "markdown",
      "metadata": {
        "id": "RcGhDeMGzML5"
      },
      "source": [
        "File handling is an important part of any web application.\n",
        "Python has several functions for creating, reading, updating, and deleting files."
      ]
    },
    {
      "cell_type": "markdown",
      "metadata": {
        "id": "NB6NF7kUzML5"
      },
      "source": [
        "There are four different methods (modes) for opening a file:\n",
        "\n",
        "\"r\" - Read - Default value. Opens a file for reading, error if the file does not exist\n",
        "\n",
        "\"a\" - Append - Opens a file for appending, creates the file if it does not exist\n",
        "\n",
        "\"w\" - Write - Opens a file for writing, creates the file if it does not exist\n",
        "\n",
        "\"x\" - Create - Creates the specified file, returns an error if the file exists\n",
        "\n",
        "In addition you can specify if the file should be handled as binary or text mode\n",
        "\n",
        "\"t\" - Text - Default value. Text mode\n",
        "\n",
        "\"b\" - Binary - Binary mode (e.g. images)"
      ]
    },
    {
      "cell_type": "code",
      "metadata": {
        "id": "hRIsw0ojzML5"
      },
      "source": [
        "#To open the file, use the built-in open() function.The open() function returns a file object\n",
        "f = open(\"file1.txt\",'x') #default 'r' is taken"
      ],
      "execution_count": null,
      "outputs": []
    },
    {
      "cell_type": "code",
      "metadata": {
        "id": "LWk9N-lqzML5",
        "outputId": "fb3d8845-6f8a-47ab-aedf-3d6e574ea3e7"
      },
      "source": [
        "f = open(\"myfile.txt\",'x')"
      ],
      "execution_count": null,
      "outputs": [
        {
          "output_type": "error",
          "ename": "FileExistsError",
          "evalue": "[Errno 17] File exists: 'myfile.txt'",
          "traceback": [
            "\u001b[1;31m---------------------------------------------------------------------------\u001b[0m",
            "\u001b[1;31mFileExistsError\u001b[0m                           Traceback (most recent call last)",
            "\u001b[1;32m<ipython-input-19-416c86cde1c7>\u001b[0m in \u001b[0;36m<module>\u001b[1;34m\u001b[0m\n\u001b[1;32m----> 1\u001b[1;33m \u001b[0mf\u001b[0m \u001b[1;33m=\u001b[0m \u001b[0mopen\u001b[0m\u001b[1;33m(\u001b[0m\u001b[1;34m\"myfile.txt\"\u001b[0m\u001b[1;33m,\u001b[0m\u001b[1;34m'x'\u001b[0m\u001b[1;33m)\u001b[0m\u001b[1;33m\u001b[0m\u001b[1;33m\u001b[0m\u001b[0m\n\u001b[0m",
            "\u001b[1;31mFileExistsError\u001b[0m: [Errno 17] File exists: 'myfile.txt'"
          ]
        }
      ]
    },
    {
      "cell_type": "code",
      "metadata": {
        "id": "tgr_c7LezML6"
      },
      "source": [
        "f = open(\"file1.txt\",'r')"
      ],
      "execution_count": null,
      "outputs": []
    },
    {
      "cell_type": "code",
      "metadata": {
        "id": "mxyWcg_WzML6",
        "outputId": "9be91c3a-005e-4b87-fa12-8e1b7206f1a0"
      },
      "source": [
        "#a read() method for reading the content of the file\n",
        "print(f.read())"
      ],
      "execution_count": null,
      "outputs": [
        {
          "output_type": "stream",
          "text": [
            "I'm learning Python programming \n",
            "Python is easy to learn.\n"
          ],
          "name": "stdout"
        }
      ]
    },
    {
      "cell_type": "code",
      "metadata": {
        "id": "QYwwD3BrzML6"
      },
      "source": [
        "f = open(\"file1.txt\" , 'w')"
      ],
      "execution_count": null,
      "outputs": []
    },
    {
      "cell_type": "code",
      "metadata": {
        "id": "dcqh_nOIzML6",
        "outputId": "1773bd08-e7c5-4ae4-85bc-d12e7ae6905c"
      },
      "source": [
        "f.write(\"I'm learning Python programming \\nPython is easy to learn.\")"
      ],
      "execution_count": null,
      "outputs": [
        {
          "output_type": "execute_result",
          "data": {
            "text/plain": [
              "57"
            ]
          },
          "metadata": {
            "tags": []
          },
          "execution_count": 29
        }
      ]
    },
    {
      "cell_type": "markdown",
      "metadata": {
        "id": "H3UBvKsnzML7"
      },
      "source": [
        "#Open a file on a different location:\n",
        "\n",
        "f = open(\"D:\\\\myfiles\\welcome.txt\", \"r\")\n",
        "print(f.read())"
      ]
    },
    {
      "cell_type": "code",
      "metadata": {
        "id": "B_5eQ9TezML7",
        "outputId": "9e84b8f5-7405-4372-f1b7-087f0fa8a639"
      },
      "source": [
        "#Read Only Parts of the File\n",
        "#Return the 5 first characters of the file:\n",
        "\n",
        "f = open(\"file1.txt\", \"r\")\n",
        "print(f.read(5))"
      ],
      "execution_count": null,
      "outputs": [
        {
          "output_type": "stream",
          "text": [
            "I'm l\n"
          ],
          "name": "stdout"
        }
      ]
    },
    {
      "cell_type": "code",
      "metadata": {
        "id": "fURHTz5RzML7",
        "outputId": "3f0f39d0-f976-40d2-94b1-76d410345476"
      },
      "source": [
        "#Read one line of the file:\n",
        "\n",
        "f = open(\"file1.txt\", \"r\")\n",
        "print(f.readline())\n",
        "print(f.readline())"
      ],
      "execution_count": null,
      "outputs": [
        {
          "output_type": "stream",
          "text": [
            "I'm learning Python programming \n",
            "\n",
            "Python is easy to learn.\n"
          ],
          "name": "stdout"
        }
      ]
    },
    {
      "cell_type": "code",
      "metadata": {
        "id": "LxQKxAV3zML8",
        "outputId": "9dc084f8-8c36-4294-eef9-a2d1b4802429"
      },
      "source": [
        "#Loop through the file line by line:\n",
        "\n",
        "f = open(\"file1.txt\", \"r\")\n",
        "for x in f:\n",
        "    print(x)"
      ],
      "execution_count": null,
      "outputs": [
        {
          "output_type": "stream",
          "text": [
            "I'm learning Python programming \n",
            "\n",
            "Python is easy to learn.\n"
          ],
          "name": "stdout"
        }
      ]
    },
    {
      "cell_type": "code",
      "metadata": {
        "id": "Psypvu7JzML8",
        "outputId": "4fdc4786-581e-44fb-bad7-c8fb3c5951c6"
      },
      "source": [
        "#Close the file when you are finish with it:\n",
        "\n",
        "f = open(\"file1.txt\", \"r\")\n",
        "print(f.readline())\n",
        "f.close()"
      ],
      "execution_count": null,
      "outputs": [
        {
          "output_type": "stream",
          "text": [
            "I'm learning Python programming \n",
            "\n"
          ],
          "name": "stdout"
        }
      ]
    },
    {
      "cell_type": "code",
      "metadata": {
        "id": "jI3D3sUAzML8",
        "outputId": "30d7d5ad-9b36-41b4-c978-424b4e8bef50"
      },
      "source": [
        "#Write to an Existing File\n",
        "\"\"\"\n",
        "\"a\" - Append - will append to the end of the file\n",
        "\n",
        "\"w\" - Write - will overwrite any existing content\n",
        "\n",
        "\"\"\"\n",
        "f = open(\"file2.txt\", \"a\")\n",
        "f.write(\"\"\"Now the file has more content! \\n Python is an interpreted high-level general-purpose programming language. \n",
        "        Python's design philosophy emphasizes code readability with its notable use of significant indentation. \n",
        "        Its language constructs as well as its object-oriented approach aim to help programmers write clear, logical code for \n",
        "        small and large-scale projects.\"\"\")\n",
        "\n",
        "f.close()\n",
        "\n",
        "#open and read the file after the appending:\n",
        "f = open(\"file2.txt\", \"r\")\n",
        "print(f.read())"
      ],
      "execution_count": null,
      "outputs": [
        {
          "output_type": "stream",
          "text": [
            "Now the file has more content! \n",
            " Python is an interpreted high-level general-purpose programming language. \n",
            "        Python's design philosophy emphasizes code readability with its notable use of significant indentation. \n",
            "        Its language constructs as well as its object-oriented approach aim to help programmers write clear, logical code for \n",
            "        small and large-scale projects.Now the file has more content! \n",
            " Python is an interpreted high-level general-purpose programming language. \n",
            "        Python's design philosophy emphasizes code readability with its notable use of significant indentation. \n",
            "        Its language constructs as well as its object-oriented approach aim to help programmers write clear, logical code for \n",
            "        small and large-scale projects.\n"
          ],
          "name": "stdout"
        }
      ]
    },
    {
      "cell_type": "code",
      "metadata": {
        "id": "fR7nOH25zML9",
        "outputId": "c3db0d15-a220-40aa-b677-887bd72f7b7d"
      },
      "source": [
        "#Open the file \"file3.txt\" and overwrite the content:\n",
        "\n",
        "f = open(\"file3.txt\", \"w\")\n",
        "f.write(\"Woops! I have deleted the content!\")\n",
        "f.close()\n",
        "\n",
        "#open and read the file after the appending:\n",
        "f = open(\"file3.txt\", \"r\")\n",
        "print(f.read())"
      ],
      "execution_count": null,
      "outputs": [
        {
          "output_type": "stream",
          "text": [
            "Woops! I have deleted the content!\n"
          ],
          "name": "stdout"
        }
      ]
    },
    {
      "cell_type": "code",
      "metadata": {
        "id": "yqmC6Oz0zML9"
      },
      "source": [
        "f = open(\"file3.txt\")\n",
        "f.close()"
      ],
      "execution_count": null,
      "outputs": []
    },
    {
      "cell_type": "code",
      "metadata": {
        "id": "FDiZcGbuzML9"
      },
      "source": [
        "#Delete a File\n",
        "#Remove the file \"file1.txt\":\n",
        "\n",
        "import os\n",
        "#os.remove(\"file1.txt\")\n",
        "os.remove(\"file3.txt\")"
      ],
      "execution_count": null,
      "outputs": []
    },
    {
      "cell_type": "code",
      "metadata": {
        "id": "j7msqXBIzML9"
      },
      "source": [
        "#Check if file exists, then delete it:\n",
        "\n",
        "import os\n",
        "if os.path.exists(\"file2.txt\"):\n",
        "    os.remove(\"file2.txt\")\n",
        "else:\n",
        "    print(\"The file does not exist\")"
      ],
      "execution_count": null,
      "outputs": []
    },
    {
      "cell_type": "markdown",
      "metadata": {
        "id": "nANnBC-pzML-"
      },
      "source": [
        "#Remove the folder \"myfolder\":\n",
        "\n",
        "import os\n",
        "os.rmdir(\"myfolder\")\n",
        "\n",
        "#Note: You can only remove empty folders."
      ]
    },
    {
      "cell_type": "markdown",
      "metadata": {
        "id": "M1RU8h-SzML-"
      },
      "source": [
        "# Exception handling"
      ]
    },
    {
      "cell_type": "markdown",
      "metadata": {
        "id": "Tb9iRlPszML-"
      },
      "source": [
        "*The try block lets you test a block of code for errors.\n",
        "*The except block lets you handle the error.\n",
        "*The finally block lets you execute code, regardless of the result of the try- and except blocks."
      ]
    },
    {
      "cell_type": "code",
      "metadata": {
        "id": "IrSLeZnpzML-",
        "outputId": "75ab6e37-7464-4fd4-bfb1-28feb950098a"
      },
      "source": [
        "#When the try block raises an error, the except block will be executed.\n",
        "try:\n",
        "    a=10/0\n",
        "except:\n",
        "    print(\"Its impossible\")"
      ],
      "execution_count": null,
      "outputs": [
        {
          "output_type": "stream",
          "text": [
            "Its impossible\n"
          ],
          "name": "stdout"
        }
      ]
    },
    {
      "cell_type": "code",
      "metadata": {
        "id": "CJ3fTSXXzML_",
        "outputId": "dd035351-bdeb-4598-b600-8fd0a12e9915"
      },
      "source": [
        "try:\n",
        "    print(h)\n",
        "except:\n",
        "    print(\"Something went wrong\")\n",
        "finally:\n",
        "    print(\"The 'try except' is finished\")\n"
      ],
      "execution_count": null,
      "outputs": [
        {
          "output_type": "stream",
          "text": [
            "Something went wrong\n",
            "The 'try except' is finished\n"
          ],
          "name": "stdout"
        }
      ]
    },
    {
      "cell_type": "code",
      "metadata": {
        "id": "HkZ2p2Q4zML_",
        "outputId": "ddf51da5-3c64-469d-90fd-2fecd38e82d1"
      },
      "source": [
        "#Mentioning the type of error\n",
        "try:\n",
        "    a=9.5\n",
        "    a.lower()\n",
        "except AttributeError:\n",
        "    print(\"A float value can't be converted in lowercase\") "
      ],
      "execution_count": null,
      "outputs": [
        {
          "output_type": "stream",
          "text": [
            "A float value can't be converted in lowercase\n"
          ],
          "name": "stdout"
        }
      ]
    },
    {
      "cell_type": "code",
      "metadata": {
        "id": "Y79wn1e-zML_",
        "outputId": "ab1c3334-2b93-4222-8e50-8ab4de0d1c6d"
      },
      "source": [
        "try:\n",
        "    a=9.9/0\n",
        "except AttributeError:\n",
        "    print(\"A float value can't be converted in lowercase\") "
      ],
      "execution_count": null,
      "outputs": [
        {
          "output_type": "error",
          "ename": "ZeroDivisionError",
          "evalue": "float division by zero",
          "traceback": [
            "\u001b[1;31m---------------------------------------------------------------------------\u001b[0m",
            "\u001b[1;31mZeroDivisionError\u001b[0m                         Traceback (most recent call last)",
            "\u001b[1;32m<ipython-input-48-609c51fcabad>\u001b[0m in \u001b[0;36m<module>\u001b[1;34m\u001b[0m\n\u001b[0;32m      1\u001b[0m \u001b[1;32mtry\u001b[0m\u001b[1;33m:\u001b[0m\u001b[1;33m\u001b[0m\u001b[1;33m\u001b[0m\u001b[0m\n\u001b[1;32m----> 2\u001b[1;33m     \u001b[0ma\u001b[0m\u001b[1;33m=\u001b[0m\u001b[1;36m9.9\u001b[0m\u001b[1;33m/\u001b[0m\u001b[1;36m0\u001b[0m\u001b[1;33m\u001b[0m\u001b[1;33m\u001b[0m\u001b[0m\n\u001b[0m\u001b[0;32m      3\u001b[0m \u001b[1;32mexcept\u001b[0m \u001b[0mAttributeError\u001b[0m\u001b[1;33m:\u001b[0m\u001b[1;33m\u001b[0m\u001b[1;33m\u001b[0m\u001b[0m\n\u001b[0;32m      4\u001b[0m     \u001b[0mprint\u001b[0m\u001b[1;33m(\u001b[0m\u001b[1;34m\"A float value can't be converted in lowercase\"\u001b[0m\u001b[1;33m)\u001b[0m\u001b[1;33m\u001b[0m\u001b[1;33m\u001b[0m\u001b[0m\n",
            "\u001b[1;31mZeroDivisionError\u001b[0m: float division by zero"
          ]
        }
      ]
    },
    {
      "cell_type": "code",
      "metadata": {
        "id": "kgqs9SukzMMA",
        "outputId": "b761f402-68f0-4d49-f218-4d1967eac295"
      },
      "source": [
        "try:\n",
        "    print(yu)\n",
        "except NameError:\n",
        "    print(\"Variable x is not defined\")\n",
        "except:\n",
        "    print(\"Something else went wrong\")\n"
      ],
      "execution_count": null,
      "outputs": [
        {
          "output_type": "stream",
          "text": [
            "Variable x is not defined\n"
          ],
          "name": "stdout"
        }
      ]
    },
    {
      "cell_type": "code",
      "metadata": {
        "id": "KpgBs58XzMMA",
        "outputId": "d8872562-c7cc-47a9-a8ab-b567ad6d9c35"
      },
      "source": [
        "#Raising an error\n",
        "a=input(\"Enter a no.:\")\n",
        "if a.isdigit():\n",
        "    print(\"It is a no.\")\n",
        "else:\n",
        "    raise ValueError"
      ],
      "execution_count": null,
      "outputs": [
        {
          "output_type": "stream",
          "text": [
            "Enter a no.:h\n"
          ],
          "name": "stdout"
        },
        {
          "output_type": "error",
          "ename": "ValueError",
          "evalue": "",
          "traceback": [
            "\u001b[1;31m---------------------------------------------------------------------------\u001b[0m",
            "\u001b[1;31mValueError\u001b[0m                                Traceback (most recent call last)",
            "\u001b[1;32m<ipython-input-50-70c3c55e8329>\u001b[0m in \u001b[0;36m<module>\u001b[1;34m\u001b[0m\n\u001b[0;32m      4\u001b[0m     \u001b[0mprint\u001b[0m\u001b[1;33m(\u001b[0m\u001b[1;34m\"It is a no.\"\u001b[0m\u001b[1;33m)\u001b[0m\u001b[1;33m\u001b[0m\u001b[1;33m\u001b[0m\u001b[0m\n\u001b[0;32m      5\u001b[0m \u001b[1;32melse\u001b[0m\u001b[1;33m:\u001b[0m\u001b[1;33m\u001b[0m\u001b[1;33m\u001b[0m\u001b[0m\n\u001b[1;32m----> 6\u001b[1;33m     \u001b[1;32mraise\u001b[0m \u001b[0mValueError\u001b[0m\u001b[1;33m\u001b[0m\u001b[1;33m\u001b[0m\u001b[0m\n\u001b[0m",
            "\u001b[1;31mValueError\u001b[0m: "
          ]
        }
      ]
    },
    {
      "cell_type": "code",
      "metadata": {
        "id": "BMGfn_cczMMA",
        "outputId": "2c325b9c-55ae-4ee7-de60-f82a9cc0b0fa"
      },
      "source": [
        "a=input(\"Enter a no.:\")\n",
        "if a.isdigit():\n",
        "    print(\"It is a no.\")\n",
        "else:\n",
        "    raise ZeroDivisionError"
      ],
      "execution_count": null,
      "outputs": [
        {
          "output_type": "stream",
          "text": [
            "Enter a no.:h\n"
          ],
          "name": "stdout"
        },
        {
          "output_type": "error",
          "ename": "ZeroDivisionError",
          "evalue": "",
          "traceback": [
            "\u001b[1;31m---------------------------------------------------------------------------\u001b[0m",
            "\u001b[1;31mZeroDivisionError\u001b[0m                         Traceback (most recent call last)",
            "\u001b[1;32m<ipython-input-51-7668d0b94d48>\u001b[0m in \u001b[0;36m<module>\u001b[1;34m\u001b[0m\n\u001b[0;32m      3\u001b[0m     \u001b[0mprint\u001b[0m\u001b[1;33m(\u001b[0m\u001b[1;34m\"It is a no.\"\u001b[0m\u001b[1;33m)\u001b[0m\u001b[1;33m\u001b[0m\u001b[1;33m\u001b[0m\u001b[0m\n\u001b[0;32m      4\u001b[0m \u001b[1;32melse\u001b[0m\u001b[1;33m:\u001b[0m\u001b[1;33m\u001b[0m\u001b[1;33m\u001b[0m\u001b[0m\n\u001b[1;32m----> 5\u001b[1;33m     \u001b[1;32mraise\u001b[0m \u001b[0mZeroDivisionError\u001b[0m\u001b[1;33m\u001b[0m\u001b[1;33m\u001b[0m\u001b[0m\n\u001b[0m",
            "\u001b[1;31mZeroDivisionError\u001b[0m: "
          ]
        }
      ]
    },
    {
      "cell_type": "code",
      "metadata": {
        "id": "Nuo6AvY5zMMB",
        "outputId": "1b3ed77c-139f-4959-98e4-28b6b7f72d02"
      },
      "source": [
        "#the try block does not generate any error:\n",
        "\n",
        "try:\n",
        "    print(\"Hello\")\n",
        "except:\n",
        "    print(\"Something went wrong\")\n",
        "else:\n",
        "    print(\"Nothing went wrong\")"
      ],
      "execution_count": null,
      "outputs": [
        {
          "output_type": "stream",
          "text": [
            "Hello\n",
            "Nothing went wrong\n"
          ],
          "name": "stdout"
        }
      ]
    },
    {
      "cell_type": "markdown",
      "metadata": {
        "id": "7LAi1L54zMMB"
      },
      "source": [
        "**Qno-Open and write to a file that is not writable"
      ]
    },
    {
      "cell_type": "markdown",
      "metadata": {
        "id": "1TvXi6qRzMMB"
      },
      "source": [
        "# Loc() & iLoc()"
      ]
    },
    {
      "cell_type": "code",
      "metadata": {
        "id": "krDXjOLzzMMB",
        "outputId": "1d0e2deb-a745-422d-b4b7-ad2e91cc6b57"
      },
      "source": [
        "# importing pandas and numpy\n",
        "import pandas as pd\n",
        "import numpy as np\n",
        "\n",
        "# crete a sample dataframe\n",
        "data = pd.DataFrame({\n",
        "    'age' :     [ 10, 22, 13, 21, 12, 11, 17],\n",
        "    'section' : [ 'A', 'B', 'C', 'B', 'B', 'A', 'A'],\n",
        "    'city' :    [ 'Gurgaon', 'Delhi', 'Mumbai', 'Delhi', 'Mumbai', 'Delhi', 'Mumbai'],\n",
        "    'gender' :  [ 'M', 'F', 'F', 'M', 'M', 'M', 'F'],\n",
        "    'favourite_color' : [ 'red', np.NAN, 'yellow', np.NAN, 'black', 'green', 'red']\n",
        "})\n",
        "\n",
        "# view the data\n",
        "data"
      ],
      "execution_count": null,
      "outputs": [
        {
          "output_type": "execute_result",
          "data": {
            "text/html": [
              "<div>\n",
              "<style scoped>\n",
              "    .dataframe tbody tr th:only-of-type {\n",
              "        vertical-align: middle;\n",
              "    }\n",
              "\n",
              "    .dataframe tbody tr th {\n",
              "        vertical-align: top;\n",
              "    }\n",
              "\n",
              "    .dataframe thead th {\n",
              "        text-align: right;\n",
              "    }\n",
              "</style>\n",
              "<table border=\"1\" class=\"dataframe\">\n",
              "  <thead>\n",
              "    <tr style=\"text-align: right;\">\n",
              "      <th></th>\n",
              "      <th>age</th>\n",
              "      <th>section</th>\n",
              "      <th>city</th>\n",
              "      <th>gender</th>\n",
              "      <th>favourite_color</th>\n",
              "    </tr>\n",
              "  </thead>\n",
              "  <tbody>\n",
              "    <tr>\n",
              "      <th>0</th>\n",
              "      <td>10</td>\n",
              "      <td>A</td>\n",
              "      <td>Gurgaon</td>\n",
              "      <td>M</td>\n",
              "      <td>red</td>\n",
              "    </tr>\n",
              "    <tr>\n",
              "      <th>1</th>\n",
              "      <td>22</td>\n",
              "      <td>B</td>\n",
              "      <td>Delhi</td>\n",
              "      <td>F</td>\n",
              "      <td>NaN</td>\n",
              "    </tr>\n",
              "    <tr>\n",
              "      <th>2</th>\n",
              "      <td>13</td>\n",
              "      <td>C</td>\n",
              "      <td>Mumbai</td>\n",
              "      <td>F</td>\n",
              "      <td>yellow</td>\n",
              "    </tr>\n",
              "    <tr>\n",
              "      <th>3</th>\n",
              "      <td>21</td>\n",
              "      <td>B</td>\n",
              "      <td>Delhi</td>\n",
              "      <td>M</td>\n",
              "      <td>NaN</td>\n",
              "    </tr>\n",
              "    <tr>\n",
              "      <th>4</th>\n",
              "      <td>12</td>\n",
              "      <td>B</td>\n",
              "      <td>Mumbai</td>\n",
              "      <td>M</td>\n",
              "      <td>black</td>\n",
              "    </tr>\n",
              "    <tr>\n",
              "      <th>5</th>\n",
              "      <td>11</td>\n",
              "      <td>A</td>\n",
              "      <td>Delhi</td>\n",
              "      <td>M</td>\n",
              "      <td>green</td>\n",
              "    </tr>\n",
              "    <tr>\n",
              "      <th>6</th>\n",
              "      <td>17</td>\n",
              "      <td>A</td>\n",
              "      <td>Mumbai</td>\n",
              "      <td>F</td>\n",
              "      <td>red</td>\n",
              "    </tr>\n",
              "  </tbody>\n",
              "</table>\n",
              "</div>"
            ],
            "text/plain": [
              "   age section     city gender favourite_color\n",
              "0   10       A  Gurgaon      M             red\n",
              "1   22       B    Delhi      F             NaN\n",
              "2   13       C   Mumbai      F          yellow\n",
              "3   21       B    Delhi      M             NaN\n",
              "4   12       B   Mumbai      M           black\n",
              "5   11       A    Delhi      M           green\n",
              "6   17       A   Mumbai      F             red"
            ]
          },
          "metadata": {
            "tags": []
          },
          "execution_count": 53
        }
      ]
    },
    {
      "cell_type": "code",
      "metadata": {
        "id": "NKzIL9kRzMMB",
        "outputId": "4b71b3c1-9206-4e3f-81c9-3076391dba60"
      },
      "source": [
        "data.loc[2:4,['age','city']]"
      ],
      "execution_count": null,
      "outputs": [
        {
          "output_type": "execute_result",
          "data": {
            "text/html": [
              "<div>\n",
              "<style scoped>\n",
              "    .dataframe tbody tr th:only-of-type {\n",
              "        vertical-align: middle;\n",
              "    }\n",
              "\n",
              "    .dataframe tbody tr th {\n",
              "        vertical-align: top;\n",
              "    }\n",
              "\n",
              "    .dataframe thead th {\n",
              "        text-align: right;\n",
              "    }\n",
              "</style>\n",
              "<table border=\"1\" class=\"dataframe\">\n",
              "  <thead>\n",
              "    <tr style=\"text-align: right;\">\n",
              "      <th></th>\n",
              "      <th>age</th>\n",
              "      <th>city</th>\n",
              "    </tr>\n",
              "  </thead>\n",
              "  <tbody>\n",
              "    <tr>\n",
              "      <th>2</th>\n",
              "      <td>13</td>\n",
              "      <td>Mumbai</td>\n",
              "    </tr>\n",
              "    <tr>\n",
              "      <th>3</th>\n",
              "      <td>21</td>\n",
              "      <td>Delhi</td>\n",
              "    </tr>\n",
              "    <tr>\n",
              "      <th>4</th>\n",
              "      <td>12</td>\n",
              "      <td>Mumbai</td>\n",
              "    </tr>\n",
              "  </tbody>\n",
              "</table>\n",
              "</div>"
            ],
            "text/plain": [
              "   age    city\n",
              "2   13  Mumbai\n",
              "3   21   Delhi\n",
              "4   12  Mumbai"
            ]
          },
          "metadata": {
            "tags": []
          },
          "execution_count": 54
        }
      ]
    },
    {
      "cell_type": "code",
      "metadata": {
        "id": "8u_Lhi6OzMMC",
        "outputId": "64e81683-88fb-4441-cfcd-33f4a770eb15"
      },
      "source": [
        "data.iloc[2:4,[0,2]]"
      ],
      "execution_count": null,
      "outputs": [
        {
          "output_type": "execute_result",
          "data": {
            "text/html": [
              "<div>\n",
              "<style scoped>\n",
              "    .dataframe tbody tr th:only-of-type {\n",
              "        vertical-align: middle;\n",
              "    }\n",
              "\n",
              "    .dataframe tbody tr th {\n",
              "        vertical-align: top;\n",
              "    }\n",
              "\n",
              "    .dataframe thead th {\n",
              "        text-align: right;\n",
              "    }\n",
              "</style>\n",
              "<table border=\"1\" class=\"dataframe\">\n",
              "  <thead>\n",
              "    <tr style=\"text-align: right;\">\n",
              "      <th></th>\n",
              "      <th>age</th>\n",
              "      <th>city</th>\n",
              "    </tr>\n",
              "  </thead>\n",
              "  <tbody>\n",
              "    <tr>\n",
              "      <th>2</th>\n",
              "      <td>13</td>\n",
              "      <td>Mumbai</td>\n",
              "    </tr>\n",
              "    <tr>\n",
              "      <th>3</th>\n",
              "      <td>21</td>\n",
              "      <td>Delhi</td>\n",
              "    </tr>\n",
              "  </tbody>\n",
              "</table>\n",
              "</div>"
            ],
            "text/plain": [
              "   age    city\n",
              "2   13  Mumbai\n",
              "3   21   Delhi"
            ]
          },
          "metadata": {
            "tags": []
          },
          "execution_count": 55
        }
      ]
    },
    {
      "cell_type": "code",
      "metadata": {
        "id": "BWbkUU8czMMC",
        "outputId": "7815e652-3c24-4cde-f458-6c457cfcb66a"
      },
      "source": [
        "data.loc[data.age >= 15]"
      ],
      "execution_count": null,
      "outputs": [
        {
          "output_type": "execute_result",
          "data": {
            "text/html": [
              "<div>\n",
              "<style scoped>\n",
              "    .dataframe tbody tr th:only-of-type {\n",
              "        vertical-align: middle;\n",
              "    }\n",
              "\n",
              "    .dataframe tbody tr th {\n",
              "        vertical-align: top;\n",
              "    }\n",
              "\n",
              "    .dataframe thead th {\n",
              "        text-align: right;\n",
              "    }\n",
              "</style>\n",
              "<table border=\"1\" class=\"dataframe\">\n",
              "  <thead>\n",
              "    <tr style=\"text-align: right;\">\n",
              "      <th></th>\n",
              "      <th>age</th>\n",
              "      <th>section</th>\n",
              "      <th>city</th>\n",
              "      <th>gender</th>\n",
              "      <th>favourite_color</th>\n",
              "    </tr>\n",
              "  </thead>\n",
              "  <tbody>\n",
              "    <tr>\n",
              "      <th>1</th>\n",
              "      <td>22</td>\n",
              "      <td>B</td>\n",
              "      <td>Delhi</td>\n",
              "      <td>F</td>\n",
              "      <td>NaN</td>\n",
              "    </tr>\n",
              "    <tr>\n",
              "      <th>3</th>\n",
              "      <td>21</td>\n",
              "      <td>B</td>\n",
              "      <td>Delhi</td>\n",
              "      <td>M</td>\n",
              "      <td>NaN</td>\n",
              "    </tr>\n",
              "    <tr>\n",
              "      <th>6</th>\n",
              "      <td>17</td>\n",
              "      <td>A</td>\n",
              "      <td>Mumbai</td>\n",
              "      <td>F</td>\n",
              "      <td>red</td>\n",
              "    </tr>\n",
              "  </tbody>\n",
              "</table>\n",
              "</div>"
            ],
            "text/plain": [
              "   age section    city gender favourite_color\n",
              "1   22       B   Delhi      F             NaN\n",
              "3   21       B   Delhi      M             NaN\n",
              "6   17       A  Mumbai      F             red"
            ]
          },
          "metadata": {
            "tags": []
          },
          "execution_count": 56
        }
      ]
    },
    {
      "cell_type": "code",
      "metadata": {
        "id": "G9qia_jrzMMC",
        "outputId": "c1cc8d4e-e3c3-4278-ca05-b20adc4b3db4"
      },
      "source": [
        "# select with multiple conditions\n",
        "data.loc[(data.age >= 12) & (data.gender == 'M')]"
      ],
      "execution_count": null,
      "outputs": [
        {
          "output_type": "execute_result",
          "data": {
            "text/html": [
              "<div>\n",
              "<style scoped>\n",
              "    .dataframe tbody tr th:only-of-type {\n",
              "        vertical-align: middle;\n",
              "    }\n",
              "\n",
              "    .dataframe tbody tr th {\n",
              "        vertical-align: top;\n",
              "    }\n",
              "\n",
              "    .dataframe thead th {\n",
              "        text-align: right;\n",
              "    }\n",
              "</style>\n",
              "<table border=\"1\" class=\"dataframe\">\n",
              "  <thead>\n",
              "    <tr style=\"text-align: right;\">\n",
              "      <th></th>\n",
              "      <th>age</th>\n",
              "      <th>section</th>\n",
              "      <th>city</th>\n",
              "      <th>gender</th>\n",
              "      <th>favourite_color</th>\n",
              "    </tr>\n",
              "  </thead>\n",
              "  <tbody>\n",
              "    <tr>\n",
              "      <th>3</th>\n",
              "      <td>21</td>\n",
              "      <td>B</td>\n",
              "      <td>Delhi</td>\n",
              "      <td>M</td>\n",
              "      <td>NaN</td>\n",
              "    </tr>\n",
              "    <tr>\n",
              "      <th>4</th>\n",
              "      <td>12</td>\n",
              "      <td>B</td>\n",
              "      <td>Mumbai</td>\n",
              "      <td>M</td>\n",
              "      <td>black</td>\n",
              "    </tr>\n",
              "  </tbody>\n",
              "</table>\n",
              "</div>"
            ],
            "text/plain": [
              "   age section    city gender favourite_color\n",
              "3   21       B   Delhi      M             NaN\n",
              "4   12       B  Mumbai      M           black"
            ]
          },
          "metadata": {
            "tags": []
          },
          "execution_count": 57
        }
      ]
    },
    {
      "cell_type": "code",
      "metadata": {
        "id": "tteMjn3LzMMC",
        "outputId": "3fa6bdf8-e76f-4053-e803-6f835e6ea8fa"
      },
      "source": [
        "#slice\n",
        "data.loc[1:3]"
      ],
      "execution_count": null,
      "outputs": [
        {
          "output_type": "execute_result",
          "data": {
            "text/html": [
              "<div>\n",
              "<style scoped>\n",
              "    .dataframe tbody tr th:only-of-type {\n",
              "        vertical-align: middle;\n",
              "    }\n",
              "\n",
              "    .dataframe tbody tr th {\n",
              "        vertical-align: top;\n",
              "    }\n",
              "\n",
              "    .dataframe thead th {\n",
              "        text-align: right;\n",
              "    }\n",
              "</style>\n",
              "<table border=\"1\" class=\"dataframe\">\n",
              "  <thead>\n",
              "    <tr style=\"text-align: right;\">\n",
              "      <th></th>\n",
              "      <th>age</th>\n",
              "      <th>section</th>\n",
              "      <th>city</th>\n",
              "      <th>gender</th>\n",
              "      <th>favourite_color</th>\n",
              "    </tr>\n",
              "  </thead>\n",
              "  <tbody>\n",
              "    <tr>\n",
              "      <th>1</th>\n",
              "      <td>22</td>\n",
              "      <td>B</td>\n",
              "      <td>Delhi</td>\n",
              "      <td>F</td>\n",
              "      <td>NaN</td>\n",
              "    </tr>\n",
              "    <tr>\n",
              "      <th>2</th>\n",
              "      <td>13</td>\n",
              "      <td>C</td>\n",
              "      <td>Mumbai</td>\n",
              "      <td>F</td>\n",
              "      <td>yellow</td>\n",
              "    </tr>\n",
              "    <tr>\n",
              "      <th>3</th>\n",
              "      <td>21</td>\n",
              "      <td>B</td>\n",
              "      <td>Delhi</td>\n",
              "      <td>M</td>\n",
              "      <td>NaN</td>\n",
              "    </tr>\n",
              "  </tbody>\n",
              "</table>\n",
              "</div>"
            ],
            "text/plain": [
              "   age section    city gender favourite_color\n",
              "1   22       B   Delhi      F             NaN\n",
              "2   13       C  Mumbai      F          yellow\n",
              "3   21       B   Delhi      M             NaN"
            ]
          },
          "metadata": {
            "tags": []
          },
          "execution_count": 58
        }
      ]
    },
    {
      "cell_type": "code",
      "metadata": {
        "id": "X4T1fPIEzMMD",
        "outputId": "3940bdf7-ce5d-42bb-fa57-b6af40683823"
      },
      "source": [
        "# select few columns with a condition\n",
        "data.loc[(data.age >= 12), ['city', 'gender']]"
      ],
      "execution_count": null,
      "outputs": [
        {
          "output_type": "execute_result",
          "data": {
            "text/html": [
              "<div>\n",
              "<style scoped>\n",
              "    .dataframe tbody tr th:only-of-type {\n",
              "        vertical-align: middle;\n",
              "    }\n",
              "\n",
              "    .dataframe tbody tr th {\n",
              "        vertical-align: top;\n",
              "    }\n",
              "\n",
              "    .dataframe thead th {\n",
              "        text-align: right;\n",
              "    }\n",
              "</style>\n",
              "<table border=\"1\" class=\"dataframe\">\n",
              "  <thead>\n",
              "    <tr style=\"text-align: right;\">\n",
              "      <th></th>\n",
              "      <th>city</th>\n",
              "      <th>gender</th>\n",
              "    </tr>\n",
              "  </thead>\n",
              "  <tbody>\n",
              "    <tr>\n",
              "      <th>1</th>\n",
              "      <td>Delhi</td>\n",
              "      <td>F</td>\n",
              "    </tr>\n",
              "    <tr>\n",
              "      <th>2</th>\n",
              "      <td>Mumbai</td>\n",
              "      <td>F</td>\n",
              "    </tr>\n",
              "    <tr>\n",
              "      <th>3</th>\n",
              "      <td>Delhi</td>\n",
              "      <td>M</td>\n",
              "    </tr>\n",
              "    <tr>\n",
              "      <th>4</th>\n",
              "      <td>Mumbai</td>\n",
              "      <td>M</td>\n",
              "    </tr>\n",
              "    <tr>\n",
              "      <th>6</th>\n",
              "      <td>Mumbai</td>\n",
              "      <td>F</td>\n",
              "    </tr>\n",
              "  </tbody>\n",
              "</table>\n",
              "</div>"
            ],
            "text/plain": [
              "     city gender\n",
              "1   Delhi      F\n",
              "2  Mumbai      F\n",
              "3   Delhi      M\n",
              "4  Mumbai      M\n",
              "6  Mumbai      F"
            ]
          },
          "metadata": {
            "tags": []
          },
          "execution_count": 59
        }
      ]
    },
    {
      "cell_type": "code",
      "metadata": {
        "id": "Qnv436jlzMMD",
        "outputId": "f1958740-0df4-4d47-efcb-116638d174a4"
      },
      "source": [
        "# update a column with condition\n",
        "data.loc[(data.age >= 12), ['section']] = 'M'\n",
        "data"
      ],
      "execution_count": null,
      "outputs": [
        {
          "output_type": "execute_result",
          "data": {
            "text/html": [
              "<div>\n",
              "<style scoped>\n",
              "    .dataframe tbody tr th:only-of-type {\n",
              "        vertical-align: middle;\n",
              "    }\n",
              "\n",
              "    .dataframe tbody tr th {\n",
              "        vertical-align: top;\n",
              "    }\n",
              "\n",
              "    .dataframe thead th {\n",
              "        text-align: right;\n",
              "    }\n",
              "</style>\n",
              "<table border=\"1\" class=\"dataframe\">\n",
              "  <thead>\n",
              "    <tr style=\"text-align: right;\">\n",
              "      <th></th>\n",
              "      <th>age</th>\n",
              "      <th>section</th>\n",
              "      <th>city</th>\n",
              "      <th>gender</th>\n",
              "      <th>favourite_color</th>\n",
              "    </tr>\n",
              "  </thead>\n",
              "  <tbody>\n",
              "    <tr>\n",
              "      <th>0</th>\n",
              "      <td>10</td>\n",
              "      <td>A</td>\n",
              "      <td>Gurgaon</td>\n",
              "      <td>M</td>\n",
              "      <td>red</td>\n",
              "    </tr>\n",
              "    <tr>\n",
              "      <th>1</th>\n",
              "      <td>22</td>\n",
              "      <td>M</td>\n",
              "      <td>Delhi</td>\n",
              "      <td>F</td>\n",
              "      <td>NaN</td>\n",
              "    </tr>\n",
              "    <tr>\n",
              "      <th>2</th>\n",
              "      <td>13</td>\n",
              "      <td>M</td>\n",
              "      <td>Mumbai</td>\n",
              "      <td>F</td>\n",
              "      <td>yellow</td>\n",
              "    </tr>\n",
              "    <tr>\n",
              "      <th>3</th>\n",
              "      <td>21</td>\n",
              "      <td>M</td>\n",
              "      <td>Delhi</td>\n",
              "      <td>M</td>\n",
              "      <td>NaN</td>\n",
              "    </tr>\n",
              "    <tr>\n",
              "      <th>4</th>\n",
              "      <td>12</td>\n",
              "      <td>M</td>\n",
              "      <td>Mumbai</td>\n",
              "      <td>M</td>\n",
              "      <td>black</td>\n",
              "    </tr>\n",
              "    <tr>\n",
              "      <th>5</th>\n",
              "      <td>11</td>\n",
              "      <td>A</td>\n",
              "      <td>Delhi</td>\n",
              "      <td>M</td>\n",
              "      <td>green</td>\n",
              "    </tr>\n",
              "    <tr>\n",
              "      <th>6</th>\n",
              "      <td>17</td>\n",
              "      <td>M</td>\n",
              "      <td>Mumbai</td>\n",
              "      <td>F</td>\n",
              "      <td>red</td>\n",
              "    </tr>\n",
              "  </tbody>\n",
              "</table>\n",
              "</div>"
            ],
            "text/plain": [
              "   age section     city gender favourite_color\n",
              "0   10       A  Gurgaon      M             red\n",
              "1   22       M    Delhi      F             NaN\n",
              "2   13       M   Mumbai      F          yellow\n",
              "3   21       M    Delhi      M             NaN\n",
              "4   12       M   Mumbai      M           black\n",
              "5   11       A    Delhi      M           green\n",
              "6   17       M   Mumbai      F             red"
            ]
          },
          "metadata": {
            "tags": []
          },
          "execution_count": 60
        }
      ]
    },
    {
      "cell_type": "code",
      "metadata": {
        "id": "LdsOdbdGzMMD",
        "outputId": "f856de71-30e2-4b4a-9be2-eda325631ebb"
      },
      "source": [
        "# update multiple columns with condition\n",
        "data.loc[(data.age >= 20), ['section', 'city']] = ['S','Pune']\n",
        "data"
      ],
      "execution_count": null,
      "outputs": [
        {
          "output_type": "execute_result",
          "data": {
            "text/html": [
              "<div>\n",
              "<style scoped>\n",
              "    .dataframe tbody tr th:only-of-type {\n",
              "        vertical-align: middle;\n",
              "    }\n",
              "\n",
              "    .dataframe tbody tr th {\n",
              "        vertical-align: top;\n",
              "    }\n",
              "\n",
              "    .dataframe thead th {\n",
              "        text-align: right;\n",
              "    }\n",
              "</style>\n",
              "<table border=\"1\" class=\"dataframe\">\n",
              "  <thead>\n",
              "    <tr style=\"text-align: right;\">\n",
              "      <th></th>\n",
              "      <th>age</th>\n",
              "      <th>section</th>\n",
              "      <th>city</th>\n",
              "      <th>gender</th>\n",
              "      <th>favourite_color</th>\n",
              "    </tr>\n",
              "  </thead>\n",
              "  <tbody>\n",
              "    <tr>\n",
              "      <th>0</th>\n",
              "      <td>10</td>\n",
              "      <td>A</td>\n",
              "      <td>Gurgaon</td>\n",
              "      <td>M</td>\n",
              "      <td>red</td>\n",
              "    </tr>\n",
              "    <tr>\n",
              "      <th>1</th>\n",
              "      <td>22</td>\n",
              "      <td>S</td>\n",
              "      <td>Pune</td>\n",
              "      <td>F</td>\n",
              "      <td>NaN</td>\n",
              "    </tr>\n",
              "    <tr>\n",
              "      <th>2</th>\n",
              "      <td>13</td>\n",
              "      <td>M</td>\n",
              "      <td>Mumbai</td>\n",
              "      <td>F</td>\n",
              "      <td>yellow</td>\n",
              "    </tr>\n",
              "    <tr>\n",
              "      <th>3</th>\n",
              "      <td>21</td>\n",
              "      <td>S</td>\n",
              "      <td>Pune</td>\n",
              "      <td>M</td>\n",
              "      <td>NaN</td>\n",
              "    </tr>\n",
              "    <tr>\n",
              "      <th>4</th>\n",
              "      <td>12</td>\n",
              "      <td>M</td>\n",
              "      <td>Mumbai</td>\n",
              "      <td>M</td>\n",
              "      <td>black</td>\n",
              "    </tr>\n",
              "    <tr>\n",
              "      <th>5</th>\n",
              "      <td>11</td>\n",
              "      <td>A</td>\n",
              "      <td>Delhi</td>\n",
              "      <td>M</td>\n",
              "      <td>green</td>\n",
              "    </tr>\n",
              "    <tr>\n",
              "      <th>6</th>\n",
              "      <td>17</td>\n",
              "      <td>M</td>\n",
              "      <td>Mumbai</td>\n",
              "      <td>F</td>\n",
              "      <td>red</td>\n",
              "    </tr>\n",
              "  </tbody>\n",
              "</table>\n",
              "</div>"
            ],
            "text/plain": [
              "   age section     city gender favourite_color\n",
              "0   10       A  Gurgaon      M             red\n",
              "1   22       S     Pune      F             NaN\n",
              "2   13       M   Mumbai      F          yellow\n",
              "3   21       S     Pune      M             NaN\n",
              "4   12       M   Mumbai      M           black\n",
              "5   11       A    Delhi      M           green\n",
              "6   17       M   Mumbai      F             red"
            ]
          },
          "metadata": {
            "tags": []
          },
          "execution_count": 65
        }
      ]
    },
    {
      "cell_type": "code",
      "metadata": {
        "id": "uOLwqRQuzMMD",
        "outputId": "950e2349-867b-4925-bbb7-908d8a05cbd3"
      },
      "source": [
        "# select rows with indexes\n",
        "data.iloc[[0,2]]"
      ],
      "execution_count": null,
      "outputs": [
        {
          "output_type": "execute_result",
          "data": {
            "text/html": [
              "<div>\n",
              "<style scoped>\n",
              "    .dataframe tbody tr th:only-of-type {\n",
              "        vertical-align: middle;\n",
              "    }\n",
              "\n",
              "    .dataframe tbody tr th {\n",
              "        vertical-align: top;\n",
              "    }\n",
              "\n",
              "    .dataframe thead th {\n",
              "        text-align: right;\n",
              "    }\n",
              "</style>\n",
              "<table border=\"1\" class=\"dataframe\">\n",
              "  <thead>\n",
              "    <tr style=\"text-align: right;\">\n",
              "      <th></th>\n",
              "      <th>age</th>\n",
              "      <th>section</th>\n",
              "      <th>city</th>\n",
              "      <th>gender</th>\n",
              "      <th>favourite_color</th>\n",
              "    </tr>\n",
              "  </thead>\n",
              "  <tbody>\n",
              "    <tr>\n",
              "      <th>0</th>\n",
              "      <td>10</td>\n",
              "      <td>A</td>\n",
              "      <td>Gurgaon</td>\n",
              "      <td>M</td>\n",
              "      <td>red</td>\n",
              "    </tr>\n",
              "    <tr>\n",
              "      <th>2</th>\n",
              "      <td>13</td>\n",
              "      <td>M</td>\n",
              "      <td>Mumbai</td>\n",
              "      <td>F</td>\n",
              "      <td>yellow</td>\n",
              "    </tr>\n",
              "  </tbody>\n",
              "</table>\n",
              "</div>"
            ],
            "text/plain": [
              "   age section     city gender favourite_color\n",
              "0   10       A  Gurgaon      M             red\n",
              "2   13       M   Mumbai      F          yellow"
            ]
          },
          "metadata": {
            "tags": []
          },
          "execution_count": 66
        }
      ]
    },
    {
      "cell_type": "code",
      "metadata": {
        "id": "bw6jTrdPzMME",
        "outputId": "f6928aa9-20b9-4ca9-d2ee-6a639f06fb03"
      },
      "source": [
        "# select rows with particular indexes and particular columns\n",
        "data.iloc[[0,2],[1,3]]"
      ],
      "execution_count": null,
      "outputs": [
        {
          "output_type": "execute_result",
          "data": {
            "text/html": [
              "<div>\n",
              "<style scoped>\n",
              "    .dataframe tbody tr th:only-of-type {\n",
              "        vertical-align: middle;\n",
              "    }\n",
              "\n",
              "    .dataframe tbody tr th {\n",
              "        vertical-align: top;\n",
              "    }\n",
              "\n",
              "    .dataframe thead th {\n",
              "        text-align: right;\n",
              "    }\n",
              "</style>\n",
              "<table border=\"1\" class=\"dataframe\">\n",
              "  <thead>\n",
              "    <tr style=\"text-align: right;\">\n",
              "      <th></th>\n",
              "      <th>section</th>\n",
              "      <th>gender</th>\n",
              "    </tr>\n",
              "  </thead>\n",
              "  <tbody>\n",
              "    <tr>\n",
              "      <th>0</th>\n",
              "      <td>A</td>\n",
              "      <td>M</td>\n",
              "    </tr>\n",
              "    <tr>\n",
              "      <th>2</th>\n",
              "      <td>M</td>\n",
              "      <td>F</td>\n",
              "    </tr>\n",
              "  </tbody>\n",
              "</table>\n",
              "</div>"
            ],
            "text/plain": [
              "  section gender\n",
              "0       A      M\n",
              "2       M      F"
            ]
          },
          "metadata": {
            "tags": []
          },
          "execution_count": 67
        }
      ]
    },
    {
      "cell_type": "code",
      "metadata": {
        "id": "U7-vWmTgzMME",
        "outputId": "fff037b5-97dd-4b25-fe91-fae07aa4d591"
      },
      "source": [
        "# select a range of rows\n",
        "data.iloc[1:3]"
      ],
      "execution_count": null,
      "outputs": [
        {
          "output_type": "execute_result",
          "data": {
            "text/html": [
              "<div>\n",
              "<style scoped>\n",
              "    .dataframe tbody tr th:only-of-type {\n",
              "        vertical-align: middle;\n",
              "    }\n",
              "\n",
              "    .dataframe tbody tr th {\n",
              "        vertical-align: top;\n",
              "    }\n",
              "\n",
              "    .dataframe thead th {\n",
              "        text-align: right;\n",
              "    }\n",
              "</style>\n",
              "<table border=\"1\" class=\"dataframe\">\n",
              "  <thead>\n",
              "    <tr style=\"text-align: right;\">\n",
              "      <th></th>\n",
              "      <th>age</th>\n",
              "      <th>section</th>\n",
              "      <th>city</th>\n",
              "      <th>gender</th>\n",
              "      <th>favourite_color</th>\n",
              "    </tr>\n",
              "  </thead>\n",
              "  <tbody>\n",
              "    <tr>\n",
              "      <th>1</th>\n",
              "      <td>22</td>\n",
              "      <td>S</td>\n",
              "      <td>Pune</td>\n",
              "      <td>F</td>\n",
              "      <td>NaN</td>\n",
              "    </tr>\n",
              "    <tr>\n",
              "      <th>2</th>\n",
              "      <td>13</td>\n",
              "      <td>M</td>\n",
              "      <td>Mumbai</td>\n",
              "      <td>F</td>\n",
              "      <td>yellow</td>\n",
              "    </tr>\n",
              "  </tbody>\n",
              "</table>\n",
              "</div>"
            ],
            "text/plain": [
              "   age section    city gender favourite_color\n",
              "1   22       S    Pune      F             NaN\n",
              "2   13       M  Mumbai      F          yellow"
            ]
          },
          "metadata": {
            "tags": []
          },
          "execution_count": 68
        }
      ]
    },
    {
      "cell_type": "code",
      "metadata": {
        "id": "96kjOtQ5zMME",
        "outputId": "e973c653-1dff-47e4-f166-1489a976437d"
      },
      "source": [
        "# select a range of rows and columns\n",
        "data.iloc[1:3,2:4]"
      ],
      "execution_count": null,
      "outputs": [
        {
          "output_type": "execute_result",
          "data": {
            "text/html": [
              "<div>\n",
              "<style scoped>\n",
              "    .dataframe tbody tr th:only-of-type {\n",
              "        vertical-align: middle;\n",
              "    }\n",
              "\n",
              "    .dataframe tbody tr th {\n",
              "        vertical-align: top;\n",
              "    }\n",
              "\n",
              "    .dataframe thead th {\n",
              "        text-align: right;\n",
              "    }\n",
              "</style>\n",
              "<table border=\"1\" class=\"dataframe\">\n",
              "  <thead>\n",
              "    <tr style=\"text-align: right;\">\n",
              "      <th></th>\n",
              "      <th>city</th>\n",
              "      <th>gender</th>\n",
              "    </tr>\n",
              "  </thead>\n",
              "  <tbody>\n",
              "    <tr>\n",
              "      <th>1</th>\n",
              "      <td>Pune</td>\n",
              "      <td>F</td>\n",
              "    </tr>\n",
              "    <tr>\n",
              "      <th>2</th>\n",
              "      <td>Mumbai</td>\n",
              "      <td>F</td>\n",
              "    </tr>\n",
              "  </tbody>\n",
              "</table>\n",
              "</div>"
            ],
            "text/plain": [
              "     city gender\n",
              "1    Pune      F\n",
              "2  Mumbai      F"
            ]
          },
          "metadata": {
            "tags": []
          },
          "execution_count": 69
        }
      ]
    },
    {
      "cell_type": "markdown",
      "metadata": {
        "id": "nT44amAJzMMF"
      },
      "source": [
        "**Qno- By importing required module create a dataframe.Display the dataframe\n",
        "{'Brand' : ['Maruti', 'Hyundai', 'Tata', \n",
        "                                'Mahindra', 'Maruti', 'Hyundai', \n",
        "                                'Renault', 'Tata', 'Maruti'], \n",
        "                     'Year' : [2012, 2014, 2011, 2015, 2012,  \n",
        "                               2016, 2014, 2018, 2019], \n",
        "                     'Kms Driven' : [50000, 30000, 60000,  \n",
        "                                     25000, 10000, 46000,  \n",
        "                                     31000, 15000, 12000], \n",
        "                     'City' : ['Gurgaon', 'Delhi', 'Mumbai',  \n",
        "                               'Delhi', 'Mumbai', 'Delhi',  \n",
        "                               'Mumbai','Chennai',  'Ghaziabad'], \n",
        "                     'Mileage' :  [28, 27, 25, 26, 28,  \n",
        "                                   29, 24, 21, 24]}\n",
        "                                   \n",
        "**After creating perform the following set of questions:-\n",
        "1.selecting cars with brand 'Maruti' and Mileage > 25 \n",
        "2.selecting range of rows from 2 to 5 \n",
        "3.updating values of Mileage if Year < 2015 \n",
        "4.selecting 0th, 2th, 4th, and 7th index rows \n",
        "5.selecting rows from 1 to 4 and columns from 2 to 4 "
      ]
    },
    {
      "cell_type": "markdown",
      "metadata": {
        "id": "sE_Q_QHJzMMF"
      },
      "source": [
        "**Qno- By importing required module create a dataframe.Display the dataframe {'Brand' : ['Maruti', 'Hyundai', 'Tata', 'Mahindra', 'Maruti', 'Hyundai', 'Renault', 'Tata', 'Maruti'], 'Year' : [2012, 2014, 2011, 2015, 2012,\n",
        "2016, 2014, 2018, 2019], 'Kms Driven' : [50000, 30000, 60000,\n",
        "25000, 10000, 46000,\n",
        "31000, 15000, 12000], 'City' : ['Gurgaon', 'Delhi', 'Mumbai',\n",
        "'Delhi', 'Mumbai', 'Delhi',\n",
        "'Mumbai','Chennai', 'Ghaziabad'], 'Mileage' : [28, 27, 25, 26, 28,\n",
        "29, 24, 21, 24]}\n",
        "\n",
        "**After creating perform the following set of questions:-\n",
        "1.selecting cars with brand 'Maruti' and Mileage > 25   #kushagra\n",
        "2.selecting range of rows from 2 to 5   #Amartya\n",
        "3.updating values of Mileage if Year < 2015 #Ashna\n",
        "4.selecting 0th, 2th, 4th, and 7th index rows #saumya\n",
        "5.selecting rows from 1 to 4 and columns from 2 to 4 #srijan\n",
        "\n"
      ]
    },
    {
      "cell_type": "code",
      "metadata": {
        "id": "BswDVPLmzMMF",
        "outputId": "a022e5ac-6016-49a1-aefd-0fc52ee80ae5"
      },
      "source": [
        "import pandas as p\n",
        "import numpy as n\n",
        " data= p.DataFrame({'Brand' : ['Maruti', 'Hyundai', 'Tata', 'Mahindra', 'Maruti', 'Hyundai', 'Renault', 'Tata', 'Maruti'],\n",
        "                    'Year': [2012, 2014, 2011, 2015, 2012,\n",
        "2016, 2014, 2018, 2019], 'Kms Driven' : [50000, 30000, 60000,25000, 10000, 46000,31000, 15000, 12000], 'City' : ['Gurgaon', 'Delhi', 'Mumbai','Delhi', 'Mumbai', 'Delhi',\n",
        "'Mumbai','Chennai', 'Ghaziabad'], 'Mileage' : [28, 27, 25, 26, 28,29, 24, 21, 24]})"
      ],
      "execution_count": null,
      "outputs": [
        {
          "output_type": "error",
          "ename": "IndentationError",
          "evalue": "unexpected indent (<ipython-input-76-be56ccc47154>, line 3)",
          "traceback": [
            "\u001b[1;36m  File \u001b[1;32m\"<ipython-input-76-be56ccc47154>\"\u001b[1;36m, line \u001b[1;32m3\u001b[0m\n\u001b[1;33m    data= p.DataFrame({'Brand' : ['Maruti', 'Hyundai', 'Tata', 'Mahindra', 'Maruti', 'Hyundai', 'Renault', 'Tata', 'Maruti'],\u001b[0m\n\u001b[1;37m    ^\u001b[0m\n\u001b[1;31mIndentationError\u001b[0m\u001b[1;31m:\u001b[0m unexpected indent\n"
          ]
        }
      ]
    },
    {
      "cell_type": "code",
      "metadata": {
        "id": "vZ4XsagizMMG"
      },
      "source": [
        "#4.\n",
        "display(data.iloc[[0,2,4,7]])"
      ],
      "execution_count": null,
      "outputs": []
    },
    {
      "cell_type": "markdown",
      "metadata": {
        "id": "Tv5v5nilzMMG"
      },
      "source": [
        "**Qno-By importing required module create a dataframe.Display the dataframe\n",
        "{'age':[30, 2, 12, 4, 32, 33, 69],\n",
        "                   'color':['blue', 'green', 'red', 'white', 'gray', 'black', 'red'],\n",
        "                   'food':['Steak', 'Lamb', 'Mango', 'Apple', 'Cheese', 'Melon', 'Beans'],\n",
        "                   'height':[165, 70, 120, 80, 180, 172, 150],\n",
        "                   'score':[4.6, 8.3, 9.0, 3.3, 1.8, 9.5, 2.2],\n",
        "                   'state':['NY', 'TX', 'FL', 'AL', 'AK', 'TX', 'TX']\n",
        "                   },\n",
        "                  index=['Jane', 'Nick', 'Aaron', 'Penelope', 'Dean', 'Christina', 'Cornelia']\n",
        "**After creating perform the following set of questions:-\n",
        "1.selecting column penelope\n",
        "2.selecting columns cornelia,jane,dean\n",
        "3.selecting columns from aaron upto dean \n",
        "4.selecting 4th index column\n",
        "5.selecting rows from 1 to 4 and 2nd column"
      ]
    },
    {
      "cell_type": "markdown",
      "metadata": {
        "id": "M0KYdv-FzMMG"
      },
      "source": [
        "**Qno-By importing required module create a dataframe.Display the dataframe {'age':[30, 2, 12, 4, 32, 33, 69], 'color':['blue', 'green', 'red', 'white', 'gray', 'black', 'red'], 'food':['Steak', 'Lamb', 'Mango', 'Apple', 'Cheese', 'Melon', 'Beans'], 'height':[165, 70, 120, 80, 180, 172, 150], 'score':[4.6, 8.3, 9.0, 3.3, 1.8, 9.5, 2.2], 'state':['NY', 'TX', 'FL', 'AL', 'AK', 'TX', 'TX'] }, index=['Jane', 'Nick', 'Aaron', 'Penelope', 'Dean', 'Christina', 'Cornelia'] \n",
        "\n",
        "**After creating perform the following set of questions:- \n",
        "1.selecting column penelope #abinash \n",
        "2.selecting columns cornelia,jane,dean #dikshya\n",
        "3.selecting columns from aaron upto dean #dipam\n",
        "4.selecting 4th index column #garima\n",
        "5.selecting rows from 1 to 4 and 2nd column #mohit"
      ]
    }
  ]
}