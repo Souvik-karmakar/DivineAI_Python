{
  "nbformat": 4,
  "nbformat_minor": 0,
  "metadata": {
    "colab": {
      "name": "Python_HW 2",
      "provenance": [],
      "collapsed_sections": [],
      "authorship_tag": "ABX9TyN0jjFWbsJ+I58w+nNFp/mg",
      "include_colab_link": true
    },
    "kernelspec": {
      "name": "python3",
      "display_name": "Python 3"
    },
    "language_info": {
      "name": "python"
    }
  },
  "cells": [
    {
      "cell_type": "markdown",
      "metadata": {
        "id": "view-in-github",
        "colab_type": "text"
      },
      "source": [
        "<a href=\"https://colab.research.google.com/github/Souvik-karmakar/DivineAI_Python/blob/main/Python_HW_2(Updated).ipynb\" target=\"_parent\"><img src=\"https://colab.research.google.com/assets/colab-badge.svg\" alt=\"Open In Colab\"/></a>"
      ]
    },
    {
      "cell_type": "code",
      "metadata": {
        "colab": {
          "base_uri": "https://localhost:8080/"
        },
        "id": "J1wiQa4yADNe",
        "outputId": "875cf423-57d4-4c31-e8f0-f5e2a2bad392"
      },
      "source": [
        "# find the sum of the cube of each digit\n",
        "n = int(input(\"Enter a number: \"))  \n",
        "sum = 0  \n",
        "temp = n \n",
        "  \n",
        "while temp > 0:  \n",
        "   Number = temp % 10  \n",
        "   sum += Number ** 3  \n",
        "   temp //= 10  \n",
        "print(sum)"
      ],
      "execution_count": null,
      "outputs": [
        {
          "output_type": "stream",
          "text": [
            "Enter a number: 123\n",
            "36\n"
          ],
          "name": "stdout"
        }
      ]
    },
    {
      "cell_type": "code",
      "metadata": {
        "colab": {
          "base_uri": "https://localhost:8080/"
        },
        "id": "Bk22EATVBQ34",
        "outputId": "4c1485cc-0675-4dd5-d08d-61d589d73e8b"
      },
      "source": [
        "#Python Program to Find Armstrong Number in an Interval\n",
        "lower = int(input(\"Enter lower range: \"))  \n",
        "upper = int(input(\"Enter upper range: \"))  \n",
        "  \n",
        "for num in range(lower,upper + 1):  \n",
        "   sum = 0  \n",
        "   temp = num  \n",
        "   while temp > 0:  \n",
        "       digit = temp % 10  \n",
        "       sum += digit ** 3  \n",
        "       temp //= 10  \n",
        "       if num == sum:  \n",
        "            print(num)  "
      ],
      "execution_count": null,
      "outputs": [
        {
          "output_type": "stream",
          "text": [
            "Enter lower range: 100\n",
            "Enter upper range: 170\n",
            "125\n",
            "153\n"
          ],
          "name": "stdout"
        }
      ]
    },
    {
      "cell_type": "code",
      "metadata": {
        "colab": {
          "base_uri": "https://localhost:8080/"
        },
        "id": "b8h_VqLxGzD0",
        "outputId": "2eb4aeb1-9534-46c4-adc5-11c1b81bb924"
      },
      "source": [
        "#Python Program to Find the Sum of Natural Numbers\n",
        "n=int(input(\"Enter a no:- \"))\n",
        "sum=0\n",
        "for i in range(0,n+1):\n",
        "  sum=sum+i\n",
        "print(sum)  "
      ],
      "execution_count": null,
      "outputs": [
        {
          "output_type": "stream",
          "text": [
            "Enter a no:- 4\n",
            "10\n"
          ],
          "name": "stdout"
        }
      ]
    },
    {
      "cell_type": "code",
      "metadata": {
        "id": "1pTO3T4DHk5g",
        "colab": {
          "base_uri": "https://localhost:8080/"
        },
        "outputId": "95a8e93c-ed73-4a7a-df8f-acfe722b4fb8"
      },
      "source": [
        "#Python Program To Display Powers of 2 Using Anonymous Function Display the powers of 2 using anonymous function\n",
        "n=int(input(\"Enter The no of terms:-  \"))\n",
        "result = list(map(lambda x: 2 ** x, range(n)))\n",
        "\n",
        "print(\"The total terms are:\",n)\n",
        "for i in range(n):\n",
        "   print(\"{}\".format(result[i]))"
      ],
      "execution_count": null,
      "outputs": [
        {
          "output_type": "stream",
          "text": [
            "Enter The no of terms:-  10\n",
            "The total terms are: 10\n",
            "1\n",
            "2\n",
            "4\n",
            "8\n",
            "16\n",
            "32\n",
            "64\n",
            "128\n",
            "256\n",
            "512\n"
          ],
          "name": "stdout"
        }
      ]
    },
    {
      "cell_type": "code",
      "metadata": {
        "colab": {
          "base_uri": "https://localhost:8080/"
        },
        "id": "oHRFcPrTNtg-",
        "outputId": "9d81259e-b731-43a9-f9f6-b78590f8aa60"
      },
      "source": [
        "#Python Program to Convert Decimal to Binary\n",
        "decimal = int(input(\"Enter a decimal number \\n\"))\n",
        "binary = 0\n",
        "ctr = 0\n",
        "temp = decimal \n",
        "\n",
        "#calculating binary\n",
        "while(temp > 0):\n",
        "    binary = ((temp%2)*(10**ctr)) + binary\n",
        "    temp = int(temp/2)\n",
        "    ctr += 1\n",
        "       \n",
        "print(\"Binary of {} is: {}\".format(decimal,binary))\n"
      ],
      "execution_count": null,
      "outputs": [
        {
          "output_type": "stream",
          "text": [
            "Enter a decimal number \n",
            "12\n",
            "Binary of 12 is: 1100\n"
          ],
          "name": "stdout"
        }
      ]
    },
    {
      "cell_type": "code",
      "metadata": {
        "colab": {
          "base_uri": "https://localhost:8080/"
        },
        "id": "yxhDGvM6TK8v",
        "outputId": "e53d2094-a53f-4fe8-b40b-ca395cba64b2"
      },
      "source": [
        "#Python function to Convert Decimal to Binary\n",
        "def D2B(n):\n",
        "   if n > 1:\n",
        "       D2B(n//2)\n",
        "   print(n % 2,end = '')\n",
        "\n",
        "# decimal number\n",
        "dec = int(input(\"Enter Any Decimal No:- \"))\n",
        "\n",
        "D2B(dec)\n",
        "print()\n"
      ],
      "execution_count": null,
      "outputs": [
        {
          "output_type": "stream",
          "text": [
            "Enter Any Decimal No:- 12\n",
            "1100\n"
          ],
          "name": "stdout"
        }
      ]
    },
    {
      "cell_type": "code",
      "metadata": {
        "colab": {
          "base_uri": "https://localhost:8080/"
        },
        "id": "_BvltokhT5vq",
        "outputId": "7eecf5a5-9e0b-4b9f-a85d-8994f22b32a3"
      },
      "source": [
        "#Python Program to Convert Decimal to Hexadecimal\n",
        "def D2H(n):\n",
        "   if n > 1:\n",
        "       D2B(n//16)\n",
        "   print(n % 16,end = '')\n",
        "\n",
        "# decimal number\n",
        "dec = int(input(\"Enter Any Decimal No:- \"))\n",
        "\n",
        "D2B(dec)\n",
        "print()\n"
      ],
      "execution_count": null,
      "outputs": [
        {
          "output_type": "stream",
          "text": [
            "Enter Any Decimal No:- 20\n",
            "10100\n"
          ],
          "name": "stdout"
        }
      ]
    },
    {
      "cell_type": "code",
      "metadata": {
        "colab": {
          "base_uri": "https://localhost:8080/"
        },
        "id": "u4fRDP7uZDEW",
        "outputId": "ea597cf8-744f-4d2a-c4f5-6c0b2401c39c"
      },
      "source": [
        "#Python Program to Find Numbers Divisible by Another Number\n",
        "print(\"Enter the values of the list:-1 \")\n",
        "x=[]\n",
        "for i in range(0,4):\n",
        "  b=int(input(\"\"))\n",
        "  x.append(b)\n",
        "y=int(input(\"Enter 2nd no:- \"))\n",
        "for i in range(0,4):\n",
        "  if(x[i]%y==0):\n",
        "    print(\"Numbers Divisible by another number are:- {}\".format(x[i]))\n",
        "  else:\n",
        "    print(\"Numbers are not divisible by another No's\")\n",
        "    break\n",
        "\n",
        "\n"
      ],
      "execution_count": null,
      "outputs": [
        {
          "output_type": "stream",
          "text": [
            "Enter the values of the list:-1 \n",
            "12\n",
            "13\n",
            "4\n",
            "15\n",
            "Enter 2nd no:- 10\n"
          ],
          "name": "stdout"
        }
      ]
    },
    {
      "cell_type": "code",
      "metadata": {
        "colab": {
          "base_uri": "https://localhost:8080/"
        },
        "id": "HYmskDZfd41N",
        "outputId": "4315750c-1f1e-4e4d-cfc9-4be87e825c63"
      },
      "source": [
        "#Python Program to Find ASCII Value of Character\n",
        "char = input(\"Enter a character: \")  \n",
        "  \n",
        "print(\"The ASCII value of '\" + char + \"' is\",ord(char)) "
      ],
      "execution_count": null,
      "outputs": [
        {
          "output_type": "stream",
          "text": [
            "Enter a character: e\n",
            "The ASCII value of 'e' is 101\n"
          ],
          "name": "stdout"
        }
      ]
    },
    {
      "cell_type": "code",
      "metadata": {
        "colab": {
          "base_uri": "https://localhost:8080/"
        },
        "id": "QpSZANwygEu-",
        "outputId": "9098be6e-f620-470d-82c6-1552b8edfa0b"
      },
      "source": [
        "#Python Program to Find HCF or GCD\n",
        "x = int(input('Enter First Number: '))\n",
        "y = int(input('Enter Second Number: '))\n",
        "if x > y:\n",
        "    smaller = y\n",
        "else:\n",
        "    smaller = x\n",
        "for i in range (1,smaller+1):\n",
        "    if((x % i == 0) and (y % i == 0)):\n",
        "        gcd = i\n",
        "print(\"The GCD of {} and {} is:- {} \".format(x,y,gcd))"
      ],
      "execution_count": null,
      "outputs": [
        {
          "output_type": "stream",
          "text": [
            "Enter First Number: 12\n",
            "Enter Second Number: 15\n",
            "The GCD of 12 and 15 is:- 3 \n"
          ],
          "name": "stdout"
        }
      ]
    },
    {
      "cell_type": "code",
      "metadata": {
        "colab": {
          "base_uri": "https://localhost:8080/"
        },
        "id": "IwGd46lNUyhn",
        "outputId": "4330df1b-7674-46e5-a085-3ef1eb1ea3cf"
      },
      "source": [
        "#Write a python function to find HCf or GCD and return the value\n",
        "def hcf(x, y):  \n",
        "   if x > y:  \n",
        "       smaller = y  \n",
        "   else:  \n",
        "       smaller = x  \n",
        "   for i in range(1,smaller + 1):  \n",
        "       if((x % i == 0) and (y % i == 0)):  \n",
        "           hcf = i  \n",
        "   return hcf  \n",
        "  \n",
        "num1 = int(input(\"Enter first number: \"))  \n",
        "num2 = int(input(\"Enter second number: \"))  \n",
        "print(\"The H.C.F. of\", num1,\"and\", num2,\"is\", hcf(num1, num2))  "
      ],
      "execution_count": null,
      "outputs": [
        {
          "output_type": "stream",
          "text": [
            "Enter first number: 12\n",
            "Enter second number: 15\n",
            "The H.C.F. of 12 and 15 is 3\n"
          ],
          "name": "stdout"
        }
      ]
    },
    {
      "cell_type": "code",
      "metadata": {
        "colab": {
          "base_uri": "https://localhost:8080/"
        },
        "id": "6AB7AmvtVw5d",
        "outputId": "13fe1172-9546-49a1-ad49-b293cdccadd4"
      },
      "source": [
        "#Write a python function to find HCf or GCD and return the value using euclidian Algorithm\n",
        "def compute_hcf(x, y):\n",
        "   while(y):\n",
        "       x, y = y, x % y\n",
        "   return x\n",
        "z=int(input(\"Enter 1st no:-\"))   \n",
        "k=int(input(\"Enter 2nd no:-\"))\n",
        "\n",
        "\n",
        "hcf = compute_hcf(z, k)\n",
        "print(\"The HCF is\", hcf)"
      ],
      "execution_count": null,
      "outputs": [
        {
          "output_type": "stream",
          "text": [
            "Enter 1st no:-15\n",
            "Enter 2nd no:-12\n",
            "The HCF is 3\n"
          ],
          "name": "stdout"
        }
      ]
    },
    {
      "cell_type": "code",
      "metadata": {
        "colab": {
          "base_uri": "https://localhost:8080/"
        },
        "id": "JH9F3CcwXRfj",
        "outputId": "444db5b5-d981-4928-c813-bd29c462e5e8"
      },
      "source": [
        "#Python Program to Find LCM\n",
        "x = int(input('Enter First Number: '))\n",
        "y = int(input('Enter Second Number: '))\n",
        "if x > y:\n",
        "       greater = x\n",
        "else:\n",
        "       greater = y\n",
        "\n",
        "while(1):\n",
        "       if((greater % x == 0) and (greater % y == 0)):\n",
        "           lcm = greater\n",
        "           print(\"LCM is\",lcm)\n",
        "           break\n",
        "       greater += 1\n",
        "     \n",
        "\n",
        "  "
      ],
      "execution_count": null,
      "outputs": [
        {
          "output_type": "stream",
          "text": [
            "Enter First Number: 12\n",
            "Enter Second Number: 15\n",
            "LCM is 60\n"
          ],
          "name": "stdout"
        }
      ]
    },
    {
      "cell_type": "code",
      "metadata": {
        "colab": {
          "base_uri": "https://localhost:8080/"
        },
        "id": "3T4JoRdaaYFn",
        "outputId": "dc0262d5-29a1-4782-87e6-83a7b22f4cd0"
      },
      "source": [
        "#write a Python function to Find LCM and returb the value\n",
        "def lcm(x, y):  \n",
        "   if x > y:  \n",
        "       greater = x  \n",
        "   else:  \n",
        "       greater = y  \n",
        "   while(True):  \n",
        "       if((greater % x == 0) and (greater % y == 0)):  \n",
        "           lcm = greater  \n",
        "           break  \n",
        "       greater += 1  \n",
        "   return lcm  \n",
        "  \n",
        "  \n",
        "num1 = int(input(\"Enter first number: \"))  \n",
        "num2 = int(input(\"Enter second number: \"))  \n",
        "print(\"The L.C.M. of\", num1,\"and\", num2,\"is\", lcm(num1, num2))  \n",
        "\n"
      ],
      "execution_count": 17,
      "outputs": [
        {
          "output_type": "stream",
          "text": [
            "Enter first number: 12\n",
            "Enter second number: 15\n",
            "The L.C.M. of 12 and 15 is 60\n"
          ],
          "name": "stdout"
        }
      ]
    },
    {
      "cell_type": "code",
      "metadata": {
        "colab": {
          "base_uri": "https://localhost:8080/"
        },
        "id": "OTeH-iATcf52",
        "outputId": "984bf59c-f58e-4319-e032-7ea7f8ec6791"
      },
      "source": [
        "#Python Program to Compute LCM Using GCD\n",
        "def compute_gcd(x, y):\n",
        "\n",
        "   while(y):\n",
        "       x, y = y, x % y\n",
        "   return x\n",
        "\n",
        "# This function computes LCM\n",
        "def compute_lcm(x, y):\n",
        "   lcm = (x*y)//compute_gcd(x,y)\n",
        "   return lcm\n",
        "\n",
        "num1 =int(input(\"Enter 1st no:-\"))\n",
        "num2 =int(input(\"Enter 2nd no:-\"))\n",
        "\n",
        "print(\"The L.C.M. is\", compute_lcm(num1, num2))\n"
      ],
      "execution_count": 20,
      "outputs": [
        {
          "output_type": "stream",
          "text": [
            "Enter 1st no:-12\n",
            "Enter 2nd no:-15\n",
            "The L.C.M. is 60\n"
          ],
          "name": "stdout"
        }
      ]
    },
    {
      "cell_type": "code",
      "metadata": {
        "id": "TIGryQX4k-2N"
      },
      "source": [
        "#Python funcction to Find the Factors of a Number\n",
        "#Python Program to Make a Simple Calculator\n",
        "#Python Program to Display Fibonacci Sequence Using Recursion\n",
        "#Python Program to Find Sum of Natural Numbers Using Recursion\n",
        "#Python Program to Find Factorial of Number Using Recursion\n",
        "#Python Program to Add Two Matrices\n",
        "#Python Program to Add Two Matrices using Nested List Comprehension\n",
        "#Python Program to Transpose a Matrix using Nested Loop\n",
        "#Python Program to Transpose a Matrix using Nested List Comprehension\n",
        "#Python Program to Multiply Two Matrices using Nested Loop\n",
        "#Python Program to Multiply Two Matrices using Nested List Comprehension\n",
        "#Python Program to Check Whether a String is Palindrome or Not\n",
        "#Python Program to Remove Punctuations From a String\n",
        "#Python Program to Sort Words in Alphabetic Order\n",
        "#Python Program to Illustrate Different Set Operations\n",
        "#Python Program to Count the Number of Each Vowel \n",
        "#Python Program to Count the Number of Each Vowel Using a list and a dictionary comprehension\n",
        "#Python Program Given a string, find the length of the longest substring without repeating characters.\n",
        "#Python Program Given an array of integers, return indices of the two numbers such that they add up to a specific target.\n",
        "#Python Program Given a sorted integer array without duplicates, return the summary of its ranges.\n",
        "#Python Program to Rotate an array of n elements to the right by k steps.\n",
        "#Python Program to Consider an array of non-negative integers. A second array is formed by shuffling the elements of the first array and deleting a random element. Given these two arrays, #Python Program Given a collection of intervals which are already sorted by start number, merge all overlapping intervals.\n",
        "#Python Program Given a list slice it into a 3 equal chunks and revert each list\n",
        "#write a program to calculate exponents of an input\n",
        "#write a program to multiply two Matrix \n",
        "#write a program to find and print the remainder of two number\n",
        "#Python program to compute sum of digits in number\n",
        "#Python program to Sort the list in ascending order\n",
        "#Python program to Sort the list in descending order\n",
        "#Removes the item at the given index from the list and returns the removed item\n",
        "#Returns the number of times the specified element appears in the list\n",
        "#access first characters in a string\n",
        "#access Last characters in a string\n",
        "# Generate a list by list comprehension\n",
        "# Set the values in the new list to upper case\n",
        "# Sort the string list alphabetically\n",
        "# Join Two Sets\n",
        "#keep only the items that are present in both sets\n",
        "#Keep All items from List But NOT the Duplicates\n",
        "# Create and print a dictionary\n",
        "# Calculate the length of dictionary"
      ],
      "execution_count": null,
      "outputs": []
    },
    {
      "cell_type": "code",
      "metadata": {
        "colab": {
          "base_uri": "https://localhost:8080/"
        },
        "id": "65PzS8hrnAeo",
        "outputId": "7440290a-271c-4732-ea04-c389d5b2d74a"
      },
      "source": [
        "#Python funcction to Find the Factors of a Number\n",
        "def fact(num):\n",
        "  for i in range(1,num+1):\n",
        "    if(num%i==0):\n",
        "      print(i)\n",
        "n=int(input(\"Enter te no:\"))\n",
        "fact(n)      \n",
        "\n",
        "\n"
      ],
      "execution_count": 24,
      "outputs": [
        {
          "output_type": "stream",
          "text": [
            "Enter te no:36\n",
            "1\n",
            "2\n",
            "3\n",
            "4\n",
            "6\n",
            "9\n",
            "12\n",
            "18\n",
            "36\n"
          ],
          "name": "stdout"
        }
      ]
    },
    {
      "cell_type": "code",
      "metadata": {
        "colab": {
          "base_uri": "https://localhost:8080/"
        },
        "id": "QuVoAm-lqeM7",
        "outputId": "2255e01a-2397-4597-83da-e64b6d79e54a"
      },
      "source": [
        "#Python Program to Make a Simple Calculator\n",
        "def add(x, y):\n",
        "    return x + y\n",
        "def subtract(x, y):\n",
        "    return x - y\n",
        "def multiply(x, y):\n",
        "    return x * y\n",
        "def divide(x, y):\n",
        "    return x / y\n",
        "print(\"Select an operation.\")\n",
        "print(\"1.Addition\")\n",
        "print(\"2.Subtraction\")\n",
        "print(\"3.Multiplication\")\n",
        "print(\"4.Divide\")\n",
        "while (1):\n",
        "    choice = input(\"Enter your choice 1 or 2 or 3 or 4: \")\n",
        "    if choice in ('1', '2', '3', '4'):\n",
        "        num1 = float(input(\"Enter first number: \"))\n",
        "        num2 = float(input(\"Enter second number: \"))\n",
        "\n",
        "        if choice == '1':\n",
        "            print(num1, \"+\", num2, \"=\", add(num1, num2))\n",
        "\n",
        "        elif choice == '2':\n",
        "            print(num1, \"-\", num2, \"=\", subtract(num1, num2))\n",
        "\n",
        "        elif choice == '3':\n",
        "            print(num1, \"x\", num2, \"=\", multiply(num1, num2))\n",
        "\n",
        "        elif choice == '4':\n",
        "            print(num1, \"/\", num2, \"=\", divide(num1, num2))\n",
        "        break\n",
        "    else:\n",
        "        print(\"Invalid Input\")\n"
      ],
      "execution_count": 27,
      "outputs": [
        {
          "output_type": "stream",
          "text": [
            "Select an operation.\n",
            "1.Addition\n",
            "2.Subtraction\n",
            "3.Multiplication\n",
            "4.Divide\n",
            "Enter your choice 1 or 2 or 3 or 4: 3\n",
            "Enter first number: 45\n",
            "Enter second number: 56\n",
            "45.0 x 56.0 = 2520.0\n"
          ],
          "name": "stdout"
        }
      ]
    },
    {
      "cell_type": "code",
      "metadata": {
        "colab": {
          "base_uri": "https://localhost:8080/"
        },
        "id": "nHfcV4y2yC7Z",
        "outputId": "285a7a89-ad88-4d01-faa4-4789c01fba2e"
      },
      "source": [
        "#Python Program to Display Fibonacci Sequence Using Recursion\n",
        "def recursion_fibo(n):  \n",
        "   if n <= 1:  \n",
        "       return n  \n",
        "   else:  \n",
        "       return(recursion_fibo(n-1) + recursion_fibo(n-2))  \n",
        "num = int(input(\"Enter the number of terms:- \"))  \n",
        "if num <= 0:  \n",
        "   print(\"Plese enter a positive integer\")  \n",
        "else:  \n",
        "   print(\"Fibonacci sequence is:\")  \n",
        "   for i in range(num):  \n",
        "       print(recursion_fibo(i))  "
      ],
      "execution_count": 31,
      "outputs": [
        {
          "output_type": "stream",
          "text": [
            "Enter the number of terms:- 10\n",
            "Fibonacci sequence is:\n",
            "0\n",
            "1\n",
            "1\n",
            "2\n",
            "3\n",
            "5\n",
            "8\n",
            "13\n",
            "21\n",
            "34\n"
          ],
          "name": "stdout"
        }
      ]
    },
    {
      "cell_type": "code",
      "metadata": {
        "colab": {
          "base_uri": "https://localhost:8080/"
        },
        "id": "IgX5kUF7zA0V",
        "outputId": "6b6a9113-8685-4f1d-ab81-77bfd2cb5811"
      },
      "source": [
        "#Python Program to Find Sum of Natural Numbers Using Recursion\n",
        "def recursion_sum(n):\n",
        "   if n <= 1:\n",
        "       return n\n",
        "   else:\n",
        "       return n + recursion_sum(n-1)\n",
        "\n",
        "num = int(input(\"Enter the Limit:-\"))\n",
        "\n",
        "if num < 0:\n",
        "   print(\"Enter a positive number\")\n",
        "else:\n",
        "   print(\"The sum is:- \",recursion_sum(num))"
      ],
      "execution_count": 36,
      "outputs": [
        {
          "output_type": "stream",
          "text": [
            "Enter the Limit:-6\n",
            "The sum is:-  21\n"
          ],
          "name": "stdout"
        }
      ]
    },
    {
      "cell_type": "code",
      "metadata": {
        "colab": {
          "base_uri": "https://localhost:8080/"
        },
        "id": "0tmZ2T5g0KbE",
        "outputId": "bc329275-3176-4e17-9065-c8449aabd41c"
      },
      "source": [
        "#Python Program to Find Factorial of Number Using Recursion\n",
        "def recursion_factorial(n):  \n",
        "   if n == 1:  \n",
        "       return n  \n",
        "   else:  \n",
        "       return n*recursion_factorial(n-1)  \n",
        "num = int(input(\"Enter a number:- \"))  \n",
        "if num < 0:  \n",
        "   print(\"Not Possible for negative no\")  \n",
        "elif num == 0:  \n",
        "   print(\"The factorial of 0 is:- 1\")  \n",
        "else:  \n",
        "   print(\"The factorial of\",num,\"is\",recursion_factorial(num))  "
      ],
      "execution_count": 38,
      "outputs": [
        {
          "output_type": "stream",
          "text": [
            "Enter a number:- 5\n",
            "The factorial of 5 is 120\n"
          ],
          "name": "stdout"
        }
      ]
    }
  ]
}