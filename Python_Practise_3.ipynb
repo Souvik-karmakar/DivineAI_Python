{
  "nbformat": 4,
  "nbformat_minor": 0,
  "metadata": {
    "colab": {
      "name": "Python Practise 3.ipynb",
      "provenance": [],
      "collapsed_sections": [],
      "authorship_tag": "ABX9TyNz1MQEb+XnCynRST7z4cPT",
      "include_colab_link": true
    },
    "kernelspec": {
      "name": "python3",
      "display_name": "Python 3"
    },
    "language_info": {
      "name": "python"
    }
  },
  "cells": [
    {
      "cell_type": "markdown",
      "metadata": {
        "id": "view-in-github",
        "colab_type": "text"
      },
      "source": [
        "<a href=\"https://colab.research.google.com/github/Souvik-karmakar/DivineAI_Python/blob/main/Python_Practise_3.ipynb\" target=\"_parent\"><img src=\"https://colab.research.google.com/assets/colab-badge.svg\" alt=\"Open In Colab\"/></a>"
      ]
    },
    {
      "cell_type": "code",
      "metadata": {
        "id": "wWL1QtFetFRo"
      },
      "source": [
        "#Python Program to Add Two Matrices\n",
        "#Python Program to Add Two Matrices using Nested List Comprehension\n",
        "#Python Program to Transpose a Matrix using Nested Loop\n",
        "#Python Program to Transpose a Matrix using Nested List Comprehension\n",
        "#Python Program to Multiply Two Matrices using Nested Loop\n",
        "#Python Program to Multiply Two Matrices using Nested List Comprehension\n",
        "#Python Program to Check Whether a String is Palindrome or Not\n",
        "#Python Program to Remove Punctuations From a String\n",
        "#Python Program to Sort Words in Alphabetic Order\n",
        "#Python Program to Illustrate Different Set Operations\n",
        "#Python Program to Count the Number of Each Vowel \n",
        "#Python Program to Count the Number of Each Vowel Using a list and a dictionary comprehension\n",
        "#Python Program Given a string, find the length of the longest substring without repeating characters.\n",
        "#Python Program Given an array of integers, return indices of the two numbers such that they add up to a specific target.\n",
        "#Python Program Given a sorted integer array without duplicates, return the summary of its ranges.\n",
        "#Python Program to Rotate an array of n elements to the right by k steps.\n",
        "#Python Program to Consider an array of non-negative integers. A second array is formed by shuffling the elements of the first array and deleting a random element. Given these two arrays, #Python Program Given a collection of intervals which are already sorted by start number, merge all overlapping intervals.\n",
        "#Python Program Given a list slice it into a 3 equal chunks and revert each list\n",
        "#write a program to calculate exponents of an input\n",
        "#write a program to multiply two Matrix \n",
        "#write a program to find and print the remainder of two number\n",
        "#Python program to compute sum of digits in number\n",
        "#Python program to Sort the list in ascending order\n",
        "#Python program to Sort the list in descending order\n",
        "#Removes the item at the given index from the list and returns the removed item\n",
        "#Returns the number of times the specified element appears in the list\n",
        "#access first characters in a string\n",
        "#access Last characters in a string\n",
        "# Generate a list by list comprehension\n",
        "# Set the values in the new list to upper case\n",
        "# Sort the string list alphabetically\n",
        "# Join Two Sets\n",
        "#keep only the items that are present in both sets\n",
        "#Keep All items from List But NOT the Duplicates\n",
        "# Create and print a dictionary\n",
        "# Calculate the length of dictionary"
      ],
      "execution_count": null,
      "outputs": []
    },
    {
      "cell_type": "code",
      "metadata": {
        "colab": {
          "base_uri": "https://localhost:8080/"
        },
        "id": "LorblMUVtHSt",
        "outputId": "ea5685a6-48ea-43ca-f57c-8a3809c4362d"
      },
      "source": [
        "#Python Program to Add Two Matrices\n",
        "X = [[2,5,3],\n",
        "    [3 ,2,8],\n",
        "    [1 ,8,9]]\n",
        "\n",
        "Y = [[0,1,2],\n",
        "    [6,7,3],\n",
        "    [4,5,10]]\n",
        "\n",
        "result = [[0,0,0],\n",
        "         [0,0,0],\n",
        "         [0,0,0]]\n",
        "\n",
        "for i in range(len(X)):\n",
        "   for j in range(len(X[0])):\n",
        "       result[i][j] = X[i][j] + Y[i][j]\n",
        "\n",
        "for r in result:\n",
        "   print(r)"
      ],
      "execution_count": 2,
      "outputs": [
        {
          "output_type": "stream",
          "text": [
            "[2, 6, 5]\n",
            "[9, 9, 11]\n",
            "[5, 13, 19]\n"
          ],
          "name": "stdout"
        }
      ]
    },
    {
      "cell_type": "code",
      "metadata": {
        "colab": {
          "base_uri": "https://localhost:8080/"
        },
        "id": "yM2zDtIWvDNd",
        "outputId": "6874f9a4-17a1-478a-f533-71b1fafc73d7"
      },
      "source": [
        "#Python Program to Add Two Matrices using Nested List Comprehension\n",
        "X = [[2,5,3],\n",
        "    [3 ,2,8],\n",
        "    [1 ,8,9]]\n",
        "\n",
        "Y = [[0,1,2],\n",
        "    [6,7,3],\n",
        "    [4,5,10]]\n",
        "result = [[X[i][j] + Y[i][j]  for j in range(len(X[0]))] for i in range(len(X))]\n",
        "  \n",
        "for r in result:\n",
        "    print(r)    \n"
      ],
      "execution_count": 4,
      "outputs": [
        {
          "output_type": "stream",
          "text": [
            "[2, 6, 5]\n",
            "[9, 9, 11]\n",
            "[5, 13, 19]\n"
          ],
          "name": "stdout"
        }
      ]
    },
    {
      "cell_type": "code",
      "metadata": {
        "colab": {
          "base_uri": "https://localhost:8080/"
        },
        "id": "uqpnQLeVwub-",
        "outputId": "265a34f2-98fb-4cc6-fb17-15757c98463f"
      },
      "source": [
        "#Python Program to Transpose a Matrix using Nested Loop\n",
        "X = [[0, 7],\n",
        "    [2 ,5],\n",
        "    [4 ,8]]\n",
        "\n",
        "y = [[0,0,0],\n",
        "    [0,0,0]]\n",
        "    \n",
        "for i in range(len(X)):\n",
        "   for j in range(len(X[0])):\n",
        "        y[j][i] = X[i][j]\n",
        "\n",
        "for r in result:\n",
        "   print(r)"
      ],
      "execution_count": 7,
      "outputs": [
        {
          "output_type": "stream",
          "text": [
            "[0, 2, 4]\n",
            "[7, 5, 8]\n"
          ],
          "name": "stdout"
        }
      ]
    },
    {
      "cell_type": "code",
      "metadata": {
        "colab": {
          "base_uri": "https://localhost:8080/"
        },
        "id": "qJ1rJ_oszQgC",
        "outputId": "e81a5a61-f634-4849-ad34-971b4c5033aa"
      },
      "source": [
        "#Python Program to Transpose a Matrix using Nested List Comprehension\n",
        "\n",
        "X = [[2,7],\n",
        "    [4 ,5],\n",
        "    [6 ,8]]\n",
        "\n",
        "result = [[X[j][i] for j in range(len(X))] for i in range(len(X[0]))]\n",
        "for r in result:\n",
        "   print(r)"
      ],
      "execution_count": 9,
      "outputs": [
        {
          "output_type": "stream",
          "text": [
            "[2, 4, 6]\n",
            "[7, 5, 8]\n"
          ],
          "name": "stdout"
        }
      ]
    },
    {
      "cell_type": "code",
      "metadata": {
        "colab": {
          "base_uri": "https://localhost:8080/"
        },
        "id": "G0-RYxhk0XQE",
        "outputId": "f5b5f638-3b3d-4bf1-b863-1cfffec91728"
      },
      "source": [
        "#Python Program to Multiply Two Matrices using Nested Loop\n",
        "X = [[2,5,3],\n",
        "    [3 ,2,8],\n",
        "    [1 ,8,9]]\n",
        "\n",
        "Y = [[0,1,2],\n",
        "    [6,7,3],\n",
        "    [4,5,10]]\n",
        "result = [[X[i][j] *  Y[i][j]  for j in range(len(X[0]))] for i in range(len(X))]\n",
        "  \n",
        "for r in result:\n",
        "    print(r)    "
      ],
      "execution_count": 10,
      "outputs": [
        {
          "output_type": "stream",
          "text": [
            "[0, 5, 6]\n",
            "[18, 14, 24]\n",
            "[4, 40, 90]\n"
          ],
          "name": "stdout"
        }
      ]
    },
    {
      "cell_type": "code",
      "metadata": {
        "colab": {
          "base_uri": "https://localhost:8080/"
        },
        "id": "FWHDFxqo4f3b",
        "outputId": "6d60b6f8-6a89-4117-e704-04737f8b1d76"
      },
      "source": [
        "#Python Program to Multiply Two Matrices using Nested List Comprehension\n",
        "X = [[2,5,3],\n",
        "    [3 ,2,8],\n",
        "    [1 ,8,9]]\n",
        "\n",
        "Y = [[0,1,2],\n",
        "    [6,7,3],\n",
        "    [4,5,10]]\n",
        "result = [[X[i][j] * Y[i][j]  for j in range(len(X[0]))] for i in range(len(X))]\n",
        "  \n",
        "for r in result:\n",
        "    print(r)    \n"
      ],
      "execution_count": 11,
      "outputs": [
        {
          "output_type": "stream",
          "text": [
            "[0, 5, 6]\n",
            "[18, 14, 24]\n",
            "[4, 40, 90]\n"
          ],
          "name": "stdout"
        }
      ]
    },
    {
      "cell_type": "code",
      "metadata": {
        "colab": {
          "base_uri": "https://localhost:8080/"
        },
        "id": "UfEYSZxw50pg",
        "outputId": "1969ed61-dac2-4f34-e6af-9a5e639c6072"
      },
      "source": [
        "#Python Program to Count the Number of Each Vowel\n",
        "\n",
        "text = \"In non-functional linguistics, a sentence is a textual unit consisting of one or more words that are grammatically linked\"\n",
        "print (\"Given sentence:\", text)\n",
        "print (\"Number of a present:\", text.count('a'))\n",
        "print (\"Number of e present:\", text.count('e'))\n",
        "print (\"Number of i present:\", text.count('i'))\n",
        "print (\"Number of o present:\", text.count('o'))\n",
        "print (\"Number of u present:\", text.count('u'))"
      ],
      "execution_count": 12,
      "outputs": [
        {
          "output_type": "stream",
          "text": [
            "Given sentence: In non-functional linguistics, a sentence is a textual unit consisting of one or more words that are grammatically linked\n",
            "Number of a present: 9\n",
            "Number of e present: 8\n",
            "Number of i present: 10\n",
            "Number of o present: 8\n",
            "Number of u present: 4\n"
          ],
          "name": "stdout"
        }
      ]
    },
    {
      "cell_type": "code",
      "metadata": {
        "colab": {
          "base_uri": "https://localhost:8080/"
        },
        "id": "wEiZ9coH6Iks",
        "outputId": "e322ee4e-94d4-4ca0-d168-6aa7cc0a5065"
      },
      "source": [
        "#Python Program to Check Whether a String is Palindrome or Not\n",
        "my_str = input(\"Enter any String:-\")\n",
        "rev_str = reversed(my_str)\n",
        "if list(my_str) == list(rev_str):\n",
        "   print(\"The string is a palindrome.\")\n",
        "else:\n",
        "   print(\"The string is not a palindrome.\")\n"
      ],
      "execution_count": 14,
      "outputs": [
        {
          "output_type": "stream",
          "text": [
            "Enter any String:-121\n",
            "The string is a palindrome.\n"
          ],
          "name": "stdout"
        }
      ]
    },
    {
      "cell_type": "code",
      "metadata": {
        "colab": {
          "base_uri": "https://localhost:8080/"
        },
        "id": "iSNpGP587DMs",
        "outputId": "10ebb41b-4527-4fc1-ca52-a683996d349a"
      },
      "source": [
        "#Python Program to Sort Words in Alphabetic Order\n",
        "\n",
        "list1 = []\n",
        "n=int(input(\"Enter the no of words you want to put:-\"))\n",
        "print (\"Enter n Random Words: --\")\n",
        "for i in range(n):\n",
        "    a = input()\n",
        "    list1.append(a)\n",
        "print (\"List:\", list1)\n",
        "list1.sort()\n",
        "print (\"Sorted list:\", list1)"
      ],
      "execution_count": 16,
      "outputs": [
        {
          "output_type": "stream",
          "text": [
            "Enter the no of words you want to put:-4\n",
            "Enter n Random Words: --\n",
            "souvik\n",
            "ram\n",
            "arkadeep\n",
            "suraj\n",
            "List: ['souvik', 'ram', 'arkadeep', 'suraj']\n",
            "Sorted list: ['arkadeep', 'ram', 'souvik', 'suraj']\n"
          ],
          "name": "stdout"
        }
      ]
    }
  ]
}