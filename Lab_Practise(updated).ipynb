{
  "nbformat": 4,
  "nbformat_minor": 0,
  "metadata": {
    "colab": {
      "name": "Lab Practise",
      "provenance": [],
      "collapsed_sections": [],
      "authorship_tag": "ABX9TyMx41XIOKHkLNhwbvcrNhXe",
      "include_colab_link": true
    },
    "kernelspec": {
      "name": "python3",
      "display_name": "Python 3"
    },
    "language_info": {
      "name": "python"
    }
  },
  "cells": [
    {
      "cell_type": "markdown",
      "metadata": {
        "id": "view-in-github",
        "colab_type": "text"
      },
      "source": [
        "<a href=\"https://colab.research.google.com/github/Souvik-karmakar/DivineAI_Python/blob/main/Lab_Practise(updated).ipynb\" target=\"_parent\"><img src=\"https://colab.research.google.com/assets/colab-badge.svg\" alt=\"Open In Colab\"/></a>"
      ]
    },
    {
      "cell_type": "code",
      "metadata": {
        "colab": {
          "base_uri": "https://localhost:8080/"
        },
        "id": "BbPKQUTMdJR7",
        "outputId": "f1620ce8-667a-4b15-e800-37b0ab4dfb43"
      },
      "source": [
        "# Take 4 lists and put the first 3 dictionaries into the 4th one\n",
        "\n",
        "d1 = {\"name\":\"Souvik\", \"age\":21}\n",
        "d2 = {\"college\":\"KIIT\", \"Sec\":\"EEE-4\"}\n",
        "d3 = {\"subject\":6, \"lab\":3}\n",
        "d4 = {}\n",
        "d4.update(d1)\n",
        "d4.update(d2)\n",
        "d4.update(d3)\n",
        "print (d4)"
      ],
      "execution_count": 2,
      "outputs": [
        {
          "output_type": "stream",
          "text": [
            "{'name': 'Souvik', 'age': 21, 'college': 'KIIT', 'Sec': 'EEE-4', 'subject': 6, 'lab': 3}\n"
          ],
          "name": "stdout"
        }
      ]
    },
    {
      "cell_type": "code",
      "metadata": {
        "colab": {
          "base_uri": "https://localhost:8080/"
        },
        "id": "ugEYDdZfe1pk",
        "outputId": "9d517e30-8fc7-4bb5-f0f8-71fa95e350f7"
      },
      "source": [
        "# Create a dictionary of address using \"name\", \"address\", \"street\", \"state\" and print all the values using string formater\n",
        "\n",
        "d = {\"name\":\"Ramesh\", \"address\":\"Patia\", \"street\":\"KIIT road\", \"state\":\"Odisha\"}\n",
        "print (\"Name: {}, Address: {}, Street: {}, State: {}\".format(d['name'], d['address'], d['street'], d['state']))"
      ],
      "execution_count": 5,
      "outputs": [
        {
          "output_type": "stream",
          "text": [
            "Name: Ramesh, Address: Patia, Street: KIIT road, State: Odisha\n"
          ],
          "name": "stdout"
        }
      ]
    },
    {
      "cell_type": "code",
      "metadata": {
        "colab": {
          "base_uri": "https://localhost:8080/"
        },
        "id": "YXZi8xXigeOk",
        "outputId": "b8734651-acd3-44f9-e9d7-e894b28e7ca5"
      },
      "source": [
        "#Qno3- Write a program to multiply all elements of dictionary \n",
        "#Input:- FruitDict = {'Apple': 10, 'banana': 5,'orange':4,'Guava':6} \n",
        "#Output:- 1200\n",
        "FruitDict = {'Apple': 10, 'banana': 5,'orange':4,'Guava':6} \n",
        "print(FruitDict.values())\n",
        "m=1\n",
        "for i in FruitDict.values():\n",
        "  m=m*i\n",
        "print(m)  \n",
        "\n"
      ],
      "execution_count": null,
      "outputs": [
        {
          "output_type": "stream",
          "text": [
            "dict_values([10, 5, 4, 6])\n",
            "1200\n"
          ],
          "name": "stdout"
        }
      ]
    },
    {
      "cell_type": "code",
      "metadata": {
        "colab": {
          "base_uri": "https://localhost:8080/"
        },
        "id": "zPyKp6nnfHiu",
        "outputId": "c2e95196-0b09-4612-f37a-f9c45f51aa8f"
      },
      "source": [
        "# Create a user input dictionary having two key:value pair and check whether one of the key given by you is pesent in the dictionary \n",
        "#Input:- {hari:59,sunny:60} Checking_input:- hari  \n",
        "#Output:- hari=59\n",
        "d1 = {}\n",
        "print (\"Enter 2 key value pairs\")\n",
        "for i in range(2):\n",
        "    key = input()\n",
        "    value = int(input())\n",
        "    d1[key] = value\n",
        "print (d1)\n",
        "x = input(\"Enter the key you want to search:\")\n",
        "if (x in d1):\n",
        "    print (x, \"=\", d1[x])"
      ],
      "execution_count": 7,
      "outputs": [
        {
          "output_type": "stream",
          "text": [
            "Enter 2 key value pairs\n",
            "hari\n",
            "59\n",
            "sunny\n",
            "60\n",
            "{'hari': 59, 'sunny': 60}\n",
            "Enter the key you want to search:hari\n",
            "hari = 59\n"
          ],
          "name": "stdout"
        }
      ]
    },
    {
      "cell_type": "code",
      "metadata": {
        "colab": {
          "base_uri": "https://localhost:8080/"
        },
        "id": "WZYjbyvyf6nD",
        "outputId": "8d6d4890-a813-4788-8175-741b18dda3d5"
      },
      "source": [
        "d1 = {\"name\":\"Ramesh\", \"address\":\"Patia\", \"street\":\"KIIT road\", \"state\":\"Odisha\"}\n",
        "print (\"Name: {}, Address: {}, Street: {}, State: {}\".format(d1['name'], d1['address'], d1['street'], d1['state']))"
      ],
      "execution_count": null,
      "outputs": [
        {
          "output_type": "stream",
          "text": [
            "Name: Ramesh, Address: Patia, Street: KIIT road, State: Odisha\n"
          ],
          "name": "stdout"
        }
      ]
    },
    {
      "cell_type": "code",
      "metadata": {
        "colab": {
          "base_uri": "https://localhost:8080/"
        },
        "id": "WZGwOPoNlFwC",
        "outputId": "0fe380e6-b659-4640-d316-f59af61a76ad"
      },
      "source": [
        "#Qno-Write a Python program to sort a list of tuples using Lambda. \n",
        "#Input: [('Eng', 88), ('Sci', 90), ('Maths', 97), ('Sst', 82)]\n",
        " #Output: [('Sst', 82), ('Eng', 88), ('Sci', 90), ('Maths', 97)]\n",
        "marks = [('Eng', 88), ('Sci', 90), ('Maths', 97), ('Sst', 82)]\n",
        "marks.sort(key = lambda x: x[1])\n",
        "print(marks)\n"
      ],
      "execution_count": null,
      "outputs": [
        {
          "output_type": "stream",
          "text": [
            "[('Sst', 82), ('Eng', 88), ('Sci', 90), ('Maths', 97)]\n"
          ],
          "name": "stdout"
        }
      ]
    },
    {
      "cell_type": "code",
      "metadata": {
        "colab": {
          "base_uri": "https://localhost:8080/"
        },
        "id": "UnU2gNqxnLUH",
        "outputId": "38cd7b64-a33f-4c16-af16-318c52f27f33"
      },
      "source": [
        "#Qno- Define a function with two arguments a and b. Check if a is equal to 1 then return 'coming from if',check if b is equal to 1 ,then return 'coming from elif' otherwise return 'no condition is satisfied'\n",
        "def func(a,b):\n",
        "  if(a==1):\n",
        "    print(\"coming from if\")\n",
        "  elif(b==1):\n",
        "    print(\"coming from elif\") \n",
        "  else:\n",
        "    print(\"no\")  \n",
        "func(1,2)    "
      ],
      "execution_count": null,
      "outputs": [
        {
          "output_type": "stream",
          "text": [
            "coming from if\n"
          ],
          "name": "stdout"
        }
      ]
    },
    {
      "cell_type": "code",
      "metadata": {
        "colab": {
          "base_uri": "https://localhost:8080/"
        },
        "id": "eFWSYzAxseUz",
        "outputId": "78de0aa1-d7f6-47b2-8a5c-807b859c72f9"
      },
      "source": [
        "#Qno-Take a Dictionary as given in input.Find the average of phy subject from the dict using function \n",
        "#Input:- dict={1:{'name':'Ram','Mark':{'phy':56,'chem':78}},2:{'name':'Hari','Mark':{'phy':76,'chem':88}}} \n",
        "#Output:- 66.0\n",
        "def avg(a,b):\n",
        "    s=a+b\n",
        "    avg=s/2\n",
        "    return avg\n",
        "dict1={1:{'name':'Ram','Mark':{'phy':56,'chem':78}},2:{'name':'Hari','Mark':{'phy':76,'chem':88}}}\n",
        "mark=avg(dict1[1]['Mark']['phy'],dict1[2]['Mark']['phy'])\n",
        "print(mark)"
      ],
      "execution_count": null,
      "outputs": [
        {
          "output_type": "stream",
          "text": [
            "66.0\n"
          ],
          "name": "stdout"
        }
      ]
    },
    {
      "cell_type": "code",
      "metadata": {
        "colab": {
          "base_uri": "https://localhost:8080/"
        },
        "id": "QiMQPX-lgT2v",
        "outputId": "791d4208-60f1-46f0-d180-095644f14779"
      },
      "source": [
        "#or\n",
        "def avg(x):\n",
        "    s = 0\n",
        "    count = 0\n",
        "    for i in x.values():\n",
        "        s = s + i['Mark']['phy']\n",
        "        count = count + 1\n",
        "    avg = s / count\n",
        "    return avg\n",
        "\n",
        "dict={1:{'name':'Ram','Mark':{'phy':56,'chem':78}},2:{'name':'Hari','Mark':{'phy':76,'chem':88}}}\n",
        "print (avg (dict))"
      ],
      "execution_count": 9,
      "outputs": [
        {
          "output_type": "stream",
          "text": [
            "66.0\n"
          ],
          "name": "stdout"
        }
      ]
    },
    {
      "cell_type": "markdown",
      "metadata": {
        "id": "Ma3iuJwagK5b"
      },
      "source": [
        ""
      ]
    }
  ]
}