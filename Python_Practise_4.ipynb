{
  "nbformat": 4,
  "nbformat_minor": 0,
  "metadata": {
    "colab": {
      "name": "Python Practise 4.ipynb",
      "provenance": [],
      "collapsed_sections": [],
      "authorship_tag": "ABX9TyMxzX9wtTthsrgCmHOKGJ02",
      "include_colab_link": true
    },
    "kernelspec": {
      "name": "python3",
      "display_name": "Python 3"
    },
    "language_info": {
      "name": "python"
    }
  },
  "cells": [
    {
      "cell_type": "markdown",
      "metadata": {
        "id": "view-in-github",
        "colab_type": "text"
      },
      "source": [
        "<a href=\"https://colab.research.google.com/github/Souvik-karmakar/DivineAI_Python/blob/main/Python_Practise_4.ipynb\" target=\"_parent\"><img src=\"https://colab.research.google.com/assets/colab-badge.svg\" alt=\"Open In Colab\"/></a>"
      ]
    },
    {
      "cell_type": "code",
      "metadata": {
        "id": "wWL1QtFetFRo"
      },
      "source": [
        "#Python Program to Add Two Matrices\n",
        "#Python Program to Add Two Matrices using Nested List Comprehension\n",
        "#Python Program to Transpose a Matrix using Nested Loop\n",
        "#Python Program to Transpose a Matrix using Nested List Comprehension\n",
        "#Python Program to Multiply Two Matrices using Nested Loop\n",
        "#Python Program to Multiply Two Matrices using Nested List Comprehension\n",
        "#Python Program to Check Whether a String is Palindrome or Not\n",
        "#Python Program to Remove Punctuations From a String\n",
        "#Python Program to Sort Words in Alphabetic Order\n",
        "#Python Program to Illustrate Different Set Operations\n",
        "#Python Program to Count the Number of Each Vowel \n",
        "#Python Program to Count the Number of Each Vowel Using a list and a dictionary comprehension\n",
        "#Python Program Given a string, find the length of the longest substring without repeating characters.\n",
        "#Python Program Given an array of integers, return indices of the two numbers such that they add up to a specific target.\n",
        "#Python Program Given a sorted integer array without duplicates, return the summary of its ranges.\n",
        "#Python Program to Rotate an array of n elements to the right by k steps.\n",
        "#Python Program to Consider an array of non-negative integers. A second array is formed by shuffling the elements of the first array and deleting a random element. Given these two arrays, #Python Program Given a collection of intervals which are already sorted by start number, merge all overlapping intervals.\n",
        "#Python Program Given a list slice it into a 3 equal chunks and revert each list\n",
        "#write a program to calculate exponents of an input\n",
        "#write a program to multiply two Matrix \n",
        "#write a program to find and print the remainder of two number\n",
        "#Python program to compute sum of digits in number\n",
        "#Python program to Sort the list in ascending order\n",
        "#Python program to Sort the list in descending order\n",
        "#Removes the item at the given index from the list and returns the removed item\n",
        "#Returns the number of times the specified element appears in the list\n",
        "#access first characters in a string\n",
        "#access Last characters in a string\n",
        "# Generate a list by list comprehension\n",
        "# Set the values in the new list to upper case\n",
        "# Sort the string list alphabetically\n",
        "# Join Two Sets\n",
        "#keep only the items that are present in both sets\n",
        "#Keep All items from List But NOT the Duplicates\n",
        "# Create and print a dictionary\n",
        "# Calculate the length of dictionary"
      ],
      "execution_count": null,
      "outputs": []
    },
    {
      "cell_type": "code",
      "metadata": {
        "colab": {
          "base_uri": "https://localhost:8080/"
        },
        "id": "LorblMUVtHSt",
        "outputId": "ea5685a6-48ea-43ca-f57c-8a3809c4362d"
      },
      "source": [
        "#Python Program to Add Two Matrices\n",
        "X = [[2,5,3],\n",
        "    [3 ,2,8],\n",
        "    [1 ,8,9]]\n",
        "\n",
        "Y = [[0,1,2],\n",
        "    [6,7,3],\n",
        "    [4,5,10]]\n",
        "\n",
        "result = [[0,0,0],\n",
        "         [0,0,0],\n",
        "         [0,0,0]]\n",
        "\n",
        "for i in range(len(X)):\n",
        "   for j in range(len(X[0])):\n",
        "       result[i][j] = X[i][j] + Y[i][j]\n",
        "\n",
        "for r in result:\n",
        "   print(r)"
      ],
      "execution_count": null,
      "outputs": [
        {
          "output_type": "stream",
          "text": [
            "[2, 6, 5]\n",
            "[9, 9, 11]\n",
            "[5, 13, 19]\n"
          ],
          "name": "stdout"
        }
      ]
    },
    {
      "cell_type": "code",
      "metadata": {
        "colab": {
          "base_uri": "https://localhost:8080/"
        },
        "id": "yM2zDtIWvDNd",
        "outputId": "6874f9a4-17a1-478a-f533-71b1fafc73d7"
      },
      "source": [
        "#Python Program to Add Two Matrices using Nested List Comprehension\n",
        "X = [[2,5,3],\n",
        "    [3 ,2,8],\n",
        "    [1 ,8,9]]\n",
        "\n",
        "Y = [[0,1,2],\n",
        "    [6,7,3],\n",
        "    [4,5,10]]\n",
        "result = [[X[i][j] + Y[i][j]  for j in range(len(X[0]))] for i in range(len(X))]\n",
        "  \n",
        "for r in result:\n",
        "    print(r)    \n"
      ],
      "execution_count": null,
      "outputs": [
        {
          "output_type": "stream",
          "text": [
            "[2, 6, 5]\n",
            "[9, 9, 11]\n",
            "[5, 13, 19]\n"
          ],
          "name": "stdout"
        }
      ]
    },
    {
      "cell_type": "code",
      "metadata": {
        "colab": {
          "base_uri": "https://localhost:8080/"
        },
        "id": "uqpnQLeVwub-",
        "outputId": "265a34f2-98fb-4cc6-fb17-15757c98463f"
      },
      "source": [
        "#Python Program to Transpose a Matrix using Nested Loop\n",
        "X = [[0, 7],\n",
        "    [2 ,5],\n",
        "    [4 ,8]]\n",
        "\n",
        "y = [[0,0,0],\n",
        "    [0,0,0]]\n",
        "    \n",
        "for i in range(len(X)):\n",
        "   for j in range(len(X[0])):\n",
        "        y[j][i] = X[i][j]\n",
        "\n",
        "for r in result:\n",
        "   print(r)"
      ],
      "execution_count": null,
      "outputs": [
        {
          "output_type": "stream",
          "text": [
            "[0, 2, 4]\n",
            "[7, 5, 8]\n"
          ],
          "name": "stdout"
        }
      ]
    },
    {
      "cell_type": "code",
      "metadata": {
        "colab": {
          "base_uri": "https://localhost:8080/"
        },
        "id": "qJ1rJ_oszQgC",
        "outputId": "e81a5a61-f634-4849-ad34-971b4c5033aa"
      },
      "source": [
        "#Python Program to Transpose a Matrix using Nested List Comprehension\n",
        "\n",
        "X = [[2,7],\n",
        "    [4 ,5],\n",
        "    [6 ,8]]\n",
        "\n",
        "result = [[X[j][i] for j in range(len(X))] for i in range(len(X[0]))]\n",
        "for r in result:\n",
        "   print(r)"
      ],
      "execution_count": null,
      "outputs": [
        {
          "output_type": "stream",
          "text": [
            "[2, 4, 6]\n",
            "[7, 5, 8]\n"
          ],
          "name": "stdout"
        }
      ]
    },
    {
      "cell_type": "code",
      "metadata": {
        "colab": {
          "base_uri": "https://localhost:8080/"
        },
        "id": "G0-RYxhk0XQE",
        "outputId": "f5b5f638-3b3d-4bf1-b863-1cfffec91728"
      },
      "source": [
        "#Python Program to Multiply Two Matrices using Nested Loop\n",
        "X = [[2,5,3],\n",
        "    [3 ,2,8],\n",
        "    [1 ,8,9]]\n",
        "\n",
        "Y = [[0,1,2],\n",
        "    [6,7,3],\n",
        "    [4,5,10]]\n",
        "result = [[X[i][j] *  Y[i][j]  for j in range(len(X[0]))] for i in range(len(X))]\n",
        "  \n",
        "for r in result:\n",
        "    print(r)    "
      ],
      "execution_count": null,
      "outputs": [
        {
          "output_type": "stream",
          "text": [
            "[0, 5, 6]\n",
            "[18, 14, 24]\n",
            "[4, 40, 90]\n"
          ],
          "name": "stdout"
        }
      ]
    },
    {
      "cell_type": "code",
      "metadata": {
        "colab": {
          "base_uri": "https://localhost:8080/"
        },
        "id": "FWHDFxqo4f3b",
        "outputId": "6d60b6f8-6a89-4117-e704-04737f8b1d76"
      },
      "source": [
        "#Python Program to Multiply Two Matrices using Nested List Comprehension\n",
        "X = [[2,5,3],\n",
        "    [3 ,2,8],\n",
        "    [1 ,8,9]]\n",
        "\n",
        "Y = [[0,1,2],\n",
        "    [6,7,3],\n",
        "    [4,5,10]]\n",
        "result = [[X[i][j] * Y[i][j]  for j in range(len(X[0]))] for i in range(len(X))]\n",
        "  \n",
        "for r in result:\n",
        "    print(r)    \n"
      ],
      "execution_count": null,
      "outputs": [
        {
          "output_type": "stream",
          "text": [
            "[0, 5, 6]\n",
            "[18, 14, 24]\n",
            "[4, 40, 90]\n"
          ],
          "name": "stdout"
        }
      ]
    },
    {
      "cell_type": "code",
      "metadata": {
        "colab": {
          "base_uri": "https://localhost:8080/"
        },
        "id": "UfEYSZxw50pg",
        "outputId": "1969ed61-dac2-4f34-e6af-9a5e639c6072"
      },
      "source": [
        "#Python Program to Count the Number of Each Vowel\n",
        "\n",
        "text = \"In non-functional linguistics, a sentence is a textual unit consisting of one or more words that are grammatically linked\"\n",
        "print (\"Given sentence:\", text)\n",
        "print (\"Number of a present:\", text.count('a'))\n",
        "print (\"Number of e present:\", text.count('e'))\n",
        "print (\"Number of i present:\", text.count('i'))\n",
        "print (\"Number of o present:\", text.count('o'))\n",
        "print (\"Number of u present:\", text.count('u'))"
      ],
      "execution_count": null,
      "outputs": [
        {
          "output_type": "stream",
          "text": [
            "Given sentence: In non-functional linguistics, a sentence is a textual unit consisting of one or more words that are grammatically linked\n",
            "Number of a present: 9\n",
            "Number of e present: 8\n",
            "Number of i present: 10\n",
            "Number of o present: 8\n",
            "Number of u present: 4\n"
          ],
          "name": "stdout"
        }
      ]
    },
    {
      "cell_type": "code",
      "metadata": {
        "colab": {
          "base_uri": "https://localhost:8080/"
        },
        "id": "wEiZ9coH6Iks",
        "outputId": "e322ee4e-94d4-4ca0-d168-6aa7cc0a5065"
      },
      "source": [
        "#Python Program to Check Whether a String is Palindrome or Not\n",
        "my_str = input(\"Enter any String:-\")\n",
        "rev_str = reversed(my_str)\n",
        "if list(my_str) == list(rev_str):\n",
        "   print(\"The string is a palindrome.\")\n",
        "else:\n",
        "   print(\"The string is not a palindrome.\")\n"
      ],
      "execution_count": null,
      "outputs": [
        {
          "output_type": "stream",
          "text": [
            "Enter any String:-121\n",
            "The string is a palindrome.\n"
          ],
          "name": "stdout"
        }
      ]
    },
    {
      "cell_type": "code",
      "metadata": {
        "colab": {
          "base_uri": "https://localhost:8080/"
        },
        "id": "iSNpGP587DMs",
        "outputId": "10ebb41b-4527-4fc1-ca52-a683996d349a"
      },
      "source": [
        "#Python Program to Sort Words in Alphabetic Order\n",
        "\n",
        "list1 = []\n",
        "n=int(input(\"Enter the no of words you want to put:-\"))\n",
        "print (\"Enter n Random Words: --\")\n",
        "for i in range(n):\n",
        "    a = input()\n",
        "    list1.append(a)\n",
        "print (\"List:\", list1)\n",
        "list1.sort()\n",
        "print (\"Sorted list:\", list1)"
      ],
      "execution_count": null,
      "outputs": [
        {
          "output_type": "stream",
          "text": [
            "Enter the no of words you want to put:-4\n",
            "Enter n Random Words: --\n",
            "souvik\n",
            "ram\n",
            "arkadeep\n",
            "suraj\n",
            "List: ['souvik', 'ram', 'arkadeep', 'suraj']\n",
            "Sorted list: ['arkadeep', 'ram', 'souvik', 'suraj']\n"
          ],
          "name": "stdout"
        }
      ]
    },
    {
      "cell_type": "code",
      "metadata": {
        "id": "Cc7TpAJou_98"
      },
      "source": [
        "# Sort JSON keys in Python and write it into a file\n",
        "\n",
        "import json\n",
        "dictionary = {'Name' : 'Souvik', 'Age' : 22, 'College' : 'KIIT'}\n",
        "with open ('file1.json', 'w') as f:\n",
        "    json.dumps(dictionary, sort_keys=True)"
      ],
      "execution_count": 2,
      "outputs": []
    },
    {
      "cell_type": "code",
      "metadata": {
        "colab": {
          "base_uri": "https://localhost:8080/"
        },
        "id": "po4WVqSVvKEU",
        "outputId": "44433207-adfe-4dc9-d371-10c1af531028"
      },
      "source": [
        "# Convert dictionary to JSON\n",
        "\n",
        "import json\n",
        "dictionary = {'Name' : 'Souvik Karmakar', 'Age' : 22, 'College' : 'KIIT'}\n",
        "json_file = json.dumps(dictionary, indent = 3)\n",
        "print (json_file)"
      ],
      "execution_count": 4,
      "outputs": [
        {
          "output_type": "stream",
          "text": [
            "{\n",
            "   \"Name\": \"Souvik Karmakar\",\n",
            "   \"Age\": 22,\n",
            "   \"College\": \"KIIT\"\n",
            "}\n"
          ],
          "name": "stdout"
        }
      ]
    },
    {
      "cell_type": "code",
      "metadata": {
        "colab": {
          "base_uri": "https://localhost:8080/"
        },
        "id": "4ZX2zJEI2apW",
        "outputId": "c506a64a-f8d3-4a34-b0ef-51a3137ffbbc"
      },
      "source": [
        "# Remove special symbols/Punctuation from a given string\n",
        "\n",
        "char = input(\"Enter a string:\")\n",
        "l = list(char)\n",
        "print (l)\n",
        "for i in l:\n",
        "    if (i == '!' or i == '?' or i == '.' or i == '/' or i ==':' or i == ';' or i == ',' or i =='-'):\n",
        "        l.remove(i)\n",
        "char = ''.join(l)\n",
        "print (char)"
      ],
      "execution_count": 6,
      "outputs": [
        {
          "output_type": "stream",
          "text": [
            "Enter a string:i - am , souvik \n",
            "['i', ' ', '-', ' ', 'a', 'm', ' ', ',', ' ', 's', 'o', 'u', 'v', 'i', 'k', ' ']\n",
            "i  am  souvik \n"
          ],
          "name": "stdout"
        }
      ]
    },
    {
      "cell_type": "code",
      "metadata": {
        "colab": {
          "base_uri": "https://localhost:8080/"
        },
        "id": "Y2SfpR4Z3KRL",
        "outputId": "5bc073c1-1df3-4f6b-bc88-5950fc40468c"
      },
      "source": [
        "# Generate a random date between given start and end dates\n",
        "\n",
        "import random\n",
        "from datetime import datetime, timedelta\n",
        "d1 = datetime(2021, 7, 2)\n",
        "d2 = datetime(2021, 7, 30)\n",
        "print (\"Start date : {}  End date : {}\".format(d1, d2))\n",
        "diff = d2 - d1\n",
        "diff_days = diff.days\n",
        "random_days = random.randrange(diff_days)\n",
        "rdate = d1 + timedelta(days = random_days)\n",
        "print (\"Random date within the range:\", rdate)"
      ],
      "execution_count": 8,
      "outputs": [
        {
          "output_type": "stream",
          "text": [
            "Start date : 2021-07-02 00:00:00  End date : 2021-07-30 00:00:00\n",
            "Random date within the range: 2021-07-26 00:00:00\n"
          ],
          "name": "stdout"
        }
      ]
    },
    {
      "cell_type": "code",
      "metadata": {
        "colab": {
          "base_uri": "https://localhost:8080/"
        },
        "id": "ma8dvLzy3plH",
        "outputId": "fd09e581-7295-4f43-e718-a8b096d8c1ca"
      },
      "source": [
        "# Pick a random character from a given String\n",
        "\n",
        "import random\n",
        "char = input(\"Enter a string:\")\n",
        "j = random.choice(char)\n",
        "print (\"Random character from the string:\", j)"
      ],
      "execution_count": 9,
      "outputs": [
        {
          "output_type": "stream",
          "text": [
            "Enter a string:Souvik\n",
            "Random character from the string: S\n"
          ],
          "name": "stdout"
        }
      ]
    },
    {
      "cell_type": "code",
      "metadata": {
        "colab": {
          "base_uri": "https://localhost:8080/"
        },
        "id": "PIjQx_k23t6s",
        "outputId": "3332886c-8233-4cb0-ba14-01c2bc4d6506"
      },
      "source": [
        "# Write a program which will achieve given a Python list, remove all occurrence of an input from the list\n",
        "\n",
        "l = ['s', 's', 'l','k', 'j', 'f', 'f']\n",
        "j = []\n",
        "print (\"List:\", l)\n",
        "n = input(\"Which letter you want to remove from the given list:\")\n",
        "for i in l:\n",
        "    if (i != n):\n",
        "        j.append(i)\n",
        "print (\"New list:\", j)"
      ],
      "execution_count": 11,
      "outputs": [
        {
          "output_type": "stream",
          "text": [
            "List: ['s', 's', 'l', 'k', 'j', 'f', 'f']\n",
            "Which letter you want to remove from the given list:s\n",
            "New list: ['l', 'k', 'j', 'f', 'f']\n"
          ],
          "name": "stdout"
        }
      ]
    },
    {
      "cell_type": "code",
      "metadata": {
        "colab": {
          "base_uri": "https://localhost:8080/"
        },
        "id": "JVhuQrcN4MIs",
        "outputId": "a091a577-0db9-4467-e0d1-eba22f913072"
      },
      "source": [
        "#  Given a Python list. Turn every item of a list into its square\n",
        "\n",
        "l = [5, 6, 9, 8, 10, 11]\n",
        "print (\"List:\", l)\n",
        "for i in range(len(l)):\n",
        "    l[i] = l[i] ** 2\n",
        "print (\"Sqaure of list:\", l)"
      ],
      "execution_count": 12,
      "outputs": [
        {
          "output_type": "stream",
          "text": [
            "List: [5, 6, 9, 8, 10, 11]\n",
            "Sqaure of list: [25, 36, 81, 64, 100, 121]\n"
          ],
          "name": "stdout"
        }
      ]
    },
    {
      "cell_type": "code",
      "metadata": {
        "colab": {
          "base_uri": "https://localhost:8080/"
        },
        "id": "vNR2k6VN4MMR",
        "outputId": "2e789da1-73f7-45c5-8a33-d3d3c3b4b56c"
      },
      "source": [
        "# Count the number of spaces in a string\n",
        "\n",
        "text = \"I am Souvik Karmakar\"\n",
        "print (\"Given text:\", text)\n",
        "count = 0\n",
        "for i in text:\n",
        "    if (i == \" \"):\n",
        "        count = count + 1\n",
        "print (\"Number of spaces in the text:\", count)"
      ],
      "execution_count": 14,
      "outputs": [
        {
          "output_type": "stream",
          "text": [
            "Given text: I am Souvik Karmakar\n",
            "Number of spaces in the text: 3\n"
          ],
          "name": "stdout"
        }
      ]
    },
    {
      "cell_type": "code",
      "metadata": {
        "colab": {
          "base_uri": "https://localhost:8080/"
        },
        "id": "-yLVKgrj5TWl",
        "outputId": "0bcd61d2-4dc1-4142-be67-178f6e50316a"
      },
      "source": [
        "#Test if string contains digits\n",
        "\n",
        "text = input(\"Enter a string:\")\n",
        "flag = 0\n",
        "for i in text:\n",
        "    if (i.isdigit() == True):\n",
        "        flag = 1\n",
        "    else:\n",
        "        flag = 0\n",
        "        \n",
        "if (flag == 1):\n",
        "    print (\"String contains digit\") \n",
        "else:\n",
        "    print (\"String doesn't have digit\")"
      ],
      "execution_count": 15,
      "outputs": [
        {
          "output_type": "stream",
          "text": [
            "Enter a string:Iamsouvikkarmakar5120\n",
            "String contains digit\n"
          ],
          "name": "stdout"
        }
      ]
    }
  ]
}