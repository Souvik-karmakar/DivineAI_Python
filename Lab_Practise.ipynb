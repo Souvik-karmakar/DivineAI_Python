{
  "nbformat": 4,
  "nbformat_minor": 0,
  "metadata": {
    "colab": {
      "name": "Lab Practise",
      "provenance": [],
      "collapsed_sections": [],
      "authorship_tag": "ABX9TyORDuNHNq4o7coe/E+azaix",
      "include_colab_link": true
    },
    "kernelspec": {
      "name": "python3",
      "display_name": "Python 3"
    },
    "language_info": {
      "name": "python"
    }
  },
  "cells": [
    {
      "cell_type": "markdown",
      "metadata": {
        "id": "view-in-github",
        "colab_type": "text"
      },
      "source": [
        "<a href=\"https://colab.research.google.com/github/Souvik5120/DivineAI_Python/blob/main/Lab_Practise.ipynb\" target=\"_parent\"><img src=\"https://colab.research.google.com/assets/colab-badge.svg\" alt=\"Open In Colab\"/></a>"
      ]
    },
    {
      "cell_type": "code",
      "metadata": {
        "colab": {
          "base_uri": "https://localhost:8080/"
        },
        "id": "BbPKQUTMdJR7",
        "outputId": "3051aec9-4f05-461f-efbe-e393619730a3"
      },
      "source": [
        "dict1={\"Ram\":12,\"sam\":13}\n",
        "dict2={\"Child1\":\"name\",\"age\":15}\n",
        "dict3={7:\"Seven\", 8:\"Eight\", 9:\"Nine\"}\n",
        "dict2.update(dict3) \n",
        "dict1.update(dict2)\n",
        "print(dict1)"
      ],
      "execution_count": 1,
      "outputs": [
        {
          "output_type": "stream",
          "text": [
            "{'Ram': 12, 'sam': 13, 'Child1': 'name', 'age': 15, 7: 'Seven', 8: 'Eight', 9: 'Nine'}\n"
          ],
          "name": "stdout"
        }
      ]
    },
    {
      "cell_type": "code",
      "metadata": {
        "colab": {
          "base_uri": "https://localhost:8080/"
        },
        "id": "ugEYDdZfe1pk",
        "outputId": "0bab5163-1f3f-4ede-a03b-68104ea97f0c"
      },
      "source": [
        "#Qno2-Create a dictionary of address using \"name\", \"address\", \"street\", \"state\" and print all the values using string formater\n",
        "adress={\"name\":\"Sk\",\"address\":\"kolkata\",\"street\":\"rg road\",\"state\":\"W.B\"}\n",
        "print(\"name:{},address{},Street:{},street:{},state:{}\".format(a)"
      ],
      "execution_count": 3,
      "outputs": [
        {
          "output_type": "stream",
          "text": [
            "dict_values(['Sk', 'kolkata', 'rg road', 'W.B'])\n"
          ],
          "name": "stdout"
        }
      ]
    },
    {
      "cell_type": "code",
      "metadata": {
        "colab": {
          "base_uri": "https://localhost:8080/"
        },
        "id": "YXZi8xXigeOk",
        "outputId": "b8734651-acd3-44f9-e9d7-e894b28e7ca5"
      },
      "source": [
        "#Qno3- Write a program to multiply all elements of dictionary \n",
        "#Input:- FruitDict = {'Apple': 10, 'banana': 5,'orange':4,'Guava':6} \n",
        "#Output:- 1200\n",
        "FruitDict = {'Apple': 10, 'banana': 5,'orange':4,'Guava':6} \n",
        "print(FruitDict.values())\n",
        "m=1\n",
        "for i in FruitDict.values():\n",
        "  m=m*i\n",
        "print(m)  \n",
        "\n"
      ],
      "execution_count": 8,
      "outputs": [
        {
          "output_type": "stream",
          "text": [
            "dict_values([10, 5, 4, 6])\n",
            "1200\n"
          ],
          "name": "stdout"
        }
      ]
    },
    {
      "cell_type": "code",
      "metadata": {
        "colab": {
          "base_uri": "https://localhost:8080/"
        },
        "id": "p2fSK5qIhaUJ",
        "outputId": "35399001-aa9e-4913-e1f5-ff619b23da2a"
      },
      "source": [
        "#Qno4- Create a user input dictionary having two key:value pair and check whether one of the key given by you is pesent in the dictionary \n",
        "#Input:- {hari:59,sunny:60} Checking_input:- hari \n",
        "#Output:- hari=59\n",
        "d={}\n",
        "for i in range(0,3):\n",
        "    x=input(\"key: \")\n",
        "    y=input(\"value: \")\n",
        "    d[x]=y\n",
        "print(d)\n",
        "t=input(\"enter key\")\n",
        "for i in d:\n",
        "    if i==t:\n",
        "        print('true')\n"
      ],
      "execution_count": 14,
      "outputs": [
        {
          "output_type": "stream",
          "text": [
            "key: 12\n",
            "value: A\n",
            "key: 13\n",
            "value: B\n",
            "key: 14\n",
            "value: c\n",
            "{'12': 'A', '13': 'B', '14': 'c'}\n",
            "enter key12\n",
            "true\n"
          ],
          "name": "stdout"
        }
      ]
    },
    {
      "cell_type": "code",
      "metadata": {
        "colab": {
          "base_uri": "https://localhost:8080/"
        },
        "id": "WZYjbyvyf6nD",
        "outputId": "8d6d4890-a813-4788-8175-741b18dda3d5"
      },
      "source": [
        "d1 = {\"name\":\"Ramesh\", \"address\":\"Patia\", \"street\":\"KIIT road\", \"state\":\"Odisha\"}\n",
        "print (\"Name: {}, Address: {}, Street: {}, State: {}\".format(d1['name'], d1['address'], d1['street'], d1['state']))"
      ],
      "execution_count": 4,
      "outputs": [
        {
          "output_type": "stream",
          "text": [
            "Name: Ramesh, Address: Patia, Street: KIIT road, State: Odisha\n"
          ],
          "name": "stdout"
        }
      ]
    },
    {
      "cell_type": "code",
      "metadata": {
        "colab": {
          "base_uri": "https://localhost:8080/"
        },
        "id": "WZGwOPoNlFwC",
        "outputId": "0fe380e6-b659-4640-d316-f59af61a76ad"
      },
      "source": [
        "#Qno-Write a Python program to sort a list of tuples using Lambda. \n",
        "#Input: [('Eng', 88), ('Sci', 90), ('Maths', 97), ('Sst', 82)]\n",
        " #Output: [('Sst', 82), ('Eng', 88), ('Sci', 90), ('Maths', 97)]\n",
        "marks = [('Eng', 88), ('Sci', 90), ('Maths', 97), ('Sst', 82)]\n",
        "marks.sort(key = lambda x: x[1])\n",
        "print(marks)\n"
      ],
      "execution_count": 13,
      "outputs": [
        {
          "output_type": "stream",
          "text": [
            "[('Sst', 82), ('Eng', 88), ('Sci', 90), ('Maths', 97)]\n"
          ],
          "name": "stdout"
        }
      ]
    },
    {
      "cell_type": "code",
      "metadata": {
        "colab": {
          "base_uri": "https://localhost:8080/"
        },
        "id": "UnU2gNqxnLUH",
        "outputId": "38cd7b64-a33f-4c16-af16-318c52f27f33"
      },
      "source": [
        "#Qno- Define a function with two arguments a and b. Check if a is equal to 1 then return 'coming from if',check if b is equal to 1 ,then return 'coming from elif' otherwise return 'no condition is satisfied'\n",
        "def func(a,b):\n",
        "  if(a==1):\n",
        "    print(\"coming from if\")\n",
        "  elif(b==1):\n",
        "    print(\"coming from elif\") \n",
        "  else:\n",
        "    print(\"no\")  \n",
        "func(1,2)    "
      ],
      "execution_count": 17,
      "outputs": [
        {
          "output_type": "stream",
          "text": [
            "coming from if\n"
          ],
          "name": "stdout"
        }
      ]
    },
    {
      "cell_type": "code",
      "metadata": {
        "colab": {
          "base_uri": "https://localhost:8080/"
        },
        "id": "eFWSYzAxseUz",
        "outputId": "78de0aa1-d7f6-47b2-8a5c-807b859c72f9"
      },
      "source": [
        "#Qno-Take a Dictionary as given in input.Find the average of phy subject from the dict using function \n",
        "#Input:- dict={1:{'name':'Ram','Mark':{'phy':56,'chem':78}},2:{'name':'Hari','Mark':{'phy':76,'chem':88}}} \n",
        "#Output:- 66.0\n",
        "def avg(a,b):\n",
        "    s=a+b\n",
        "    avg=s/2\n",
        "    return avg\n",
        "dict1={1:{'name':'Ram','Mark':{'phy':56,'chem':78}},2:{'name':'Hari','Mark':{'phy':76,'chem':88}}}\n",
        "mark=avg(dict1[1]['Mark']['phy'],dict1[2]['Mark']['phy'])\n",
        "print(mark)"
      ],
      "execution_count": 20,
      "outputs": [
        {
          "output_type": "stream",
          "text": [
            "66.0\n"
          ],
          "name": "stdout"
        }
      ]
    },
    {
      "cell_type": "markdown",
      "metadata": {
        "id": "Ma3iuJwagK5b"
      },
      "source": [
        ""
      ]
    }
  ]
}